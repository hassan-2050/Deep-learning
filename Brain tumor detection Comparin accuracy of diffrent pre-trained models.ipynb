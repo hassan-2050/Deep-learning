{
  "cells": [
    {
      "cell_type": "markdown",
      "source": [
        "#vgg16 approch1"
      ],
      "metadata": {
        "id": "NyaGeh6nFDlE"
      },
      "id": "NyaGeh6nFDlE"
    },
    {
      "cell_type": "code",
      "execution_count": null,
      "metadata": {
        "id": "f2e30cf6-6a66-41de-83fd-dab614d1746c"
      },
      "outputs": [],
      "source": [
        "import pandas as pd\n",
        "import os, shutil\n"
      ],
      "id": "f2e30cf6-6a66-41de-83fd-dab614d1746c"
    },
    {
      "cell_type": "code",
      "execution_count": null,
      "metadata": {
        "colab": {
          "base_uri": "https://localhost:8080/",
          "height": 345
        },
        "id": "Nb4rGix4rm_h",
        "outputId": "912cf988-054d-4a5d-e573-afa8d289c660"
      },
      "outputs": [
        {
          "output_type": "error",
          "ename": "MessageError",
          "evalue": "ignored",
          "traceback": [
            "\u001b[0;31m---------------------------------------------------------------------------\u001b[0m",
            "\u001b[0;31mMessageError\u001b[0m                              Traceback (most recent call last)",
            "\u001b[0;32m<ipython-input-1-d5df0069828e>\u001b[0m in \u001b[0;36m<module>\u001b[0;34m\u001b[0m\n\u001b[1;32m      1\u001b[0m \u001b[0;32mfrom\u001b[0m \u001b[0mgoogle\u001b[0m\u001b[0;34m.\u001b[0m\u001b[0mcolab\u001b[0m \u001b[0;32mimport\u001b[0m \u001b[0mdrive\u001b[0m\u001b[0;34m\u001b[0m\u001b[0;34m\u001b[0m\u001b[0m\n\u001b[0;32m----> 2\u001b[0;31m \u001b[0mdrive\u001b[0m\u001b[0;34m.\u001b[0m\u001b[0mmount\u001b[0m\u001b[0;34m(\u001b[0m\u001b[0;34m'/content/drive'\u001b[0m\u001b[0;34m)\u001b[0m\u001b[0;34m\u001b[0m\u001b[0;34m\u001b[0m\u001b[0m\n\u001b[0m",
            "\u001b[0;32m/usr/local/lib/python3.7/dist-packages/google/colab/drive.py\u001b[0m in \u001b[0;36mmount\u001b[0;34m(mountpoint, force_remount, timeout_ms)\u001b[0m\n\u001b[1;32m    103\u001b[0m       \u001b[0mforce_remount\u001b[0m\u001b[0;34m=\u001b[0m\u001b[0mforce_remount\u001b[0m\u001b[0;34m,\u001b[0m\u001b[0;34m\u001b[0m\u001b[0;34m\u001b[0m\u001b[0m\n\u001b[1;32m    104\u001b[0m       \u001b[0mtimeout_ms\u001b[0m\u001b[0;34m=\u001b[0m\u001b[0mtimeout_ms\u001b[0m\u001b[0;34m,\u001b[0m\u001b[0;34m\u001b[0m\u001b[0;34m\u001b[0m\u001b[0m\n\u001b[0;32m--> 105\u001b[0;31m       ephemeral=True)\n\u001b[0m\u001b[1;32m    106\u001b[0m \u001b[0;34m\u001b[0m\u001b[0m\n\u001b[1;32m    107\u001b[0m \u001b[0;34m\u001b[0m\u001b[0m\n",
            "\u001b[0;32m/usr/local/lib/python3.7/dist-packages/google/colab/drive.py\u001b[0m in \u001b[0;36m_mount\u001b[0;34m(mountpoint, force_remount, timeout_ms, ephemeral)\u001b[0m\n\u001b[1;32m    118\u001b[0m   \u001b[0;32mif\u001b[0m \u001b[0mephemeral\u001b[0m\u001b[0;34m:\u001b[0m\u001b[0;34m\u001b[0m\u001b[0;34m\u001b[0m\u001b[0m\n\u001b[1;32m    119\u001b[0m     _message.blocking_request(\n\u001b[0;32m--> 120\u001b[0;31m         'request_auth', request={'authType': 'dfs_ephemeral'}, timeout_sec=None)\n\u001b[0m\u001b[1;32m    121\u001b[0m \u001b[0;34m\u001b[0m\u001b[0m\n\u001b[1;32m    122\u001b[0m   \u001b[0mmountpoint\u001b[0m \u001b[0;34m=\u001b[0m \u001b[0m_os\u001b[0m\u001b[0;34m.\u001b[0m\u001b[0mpath\u001b[0m\u001b[0;34m.\u001b[0m\u001b[0mexpanduser\u001b[0m\u001b[0;34m(\u001b[0m\u001b[0mmountpoint\u001b[0m\u001b[0;34m)\u001b[0m\u001b[0;34m\u001b[0m\u001b[0;34m\u001b[0m\u001b[0m\n",
            "\u001b[0;32m/usr/local/lib/python3.7/dist-packages/google/colab/_message.py\u001b[0m in \u001b[0;36mblocking_request\u001b[0;34m(request_type, request, timeout_sec, parent)\u001b[0m\n\u001b[1;32m    169\u001b[0m   request_id = send_request(\n\u001b[1;32m    170\u001b[0m       request_type, request, parent=parent, expect_reply=True)\n\u001b[0;32m--> 171\u001b[0;31m   \u001b[0;32mreturn\u001b[0m \u001b[0mread_reply_from_input\u001b[0m\u001b[0;34m(\u001b[0m\u001b[0mrequest_id\u001b[0m\u001b[0;34m,\u001b[0m \u001b[0mtimeout_sec\u001b[0m\u001b[0;34m)\u001b[0m\u001b[0;34m\u001b[0m\u001b[0;34m\u001b[0m\u001b[0m\n\u001b[0m",
            "\u001b[0;32m/usr/local/lib/python3.7/dist-packages/google/colab/_message.py\u001b[0m in \u001b[0;36mread_reply_from_input\u001b[0;34m(message_id, timeout_sec)\u001b[0m\n\u001b[1;32m    100\u001b[0m         reply.get('colab_msg_id') == message_id):\n\u001b[1;32m    101\u001b[0m       \u001b[0;32mif\u001b[0m \u001b[0;34m'error'\u001b[0m \u001b[0;32min\u001b[0m \u001b[0mreply\u001b[0m\u001b[0;34m:\u001b[0m\u001b[0;34m\u001b[0m\u001b[0;34m\u001b[0m\u001b[0m\n\u001b[0;32m--> 102\u001b[0;31m         \u001b[0;32mraise\u001b[0m \u001b[0mMessageError\u001b[0m\u001b[0;34m(\u001b[0m\u001b[0mreply\u001b[0m\u001b[0;34m[\u001b[0m\u001b[0;34m'error'\u001b[0m\u001b[0;34m]\u001b[0m\u001b[0;34m)\u001b[0m\u001b[0;34m\u001b[0m\u001b[0;34m\u001b[0m\u001b[0m\n\u001b[0m\u001b[1;32m    103\u001b[0m       \u001b[0;32mreturn\u001b[0m \u001b[0mreply\u001b[0m\u001b[0;34m.\u001b[0m\u001b[0mget\u001b[0m\u001b[0;34m(\u001b[0m\u001b[0;34m'data'\u001b[0m\u001b[0;34m,\u001b[0m \u001b[0;32mNone\u001b[0m\u001b[0;34m)\u001b[0m\u001b[0;34m\u001b[0m\u001b[0;34m\u001b[0m\u001b[0m\n\u001b[1;32m    104\u001b[0m \u001b[0;34m\u001b[0m\u001b[0m\n",
            "\u001b[0;31mMessageError\u001b[0m: Error: credential propagation was unsuccessful"
          ]
        }
      ],
      "source": [
        "from google.colab import drive\n",
        "drive.mount('/content/drive')"
      ],
      "id": "Nb4rGix4rm_h"
    },
    {
      "cell_type": "code",
      "execution_count": null,
      "metadata": {
        "id": "6b4f1f14-cdf9-4c7a-af89-de44806f3569"
      },
      "outputs": [],
      "source": [
        "data=pd.read_csv(\"Brain Tumor.csv\")"
      ],
      "id": "6b4f1f14-cdf9-4c7a-af89-de44806f3569"
    },
    {
      "cell_type": "code",
      "source": [],
      "metadata": {
        "id": "MSzty3b3O2F1"
      },
      "id": "MSzty3b3O2F1",
      "execution_count": null,
      "outputs": []
    },
    {
      "cell_type": "code",
      "execution_count": null,
      "metadata": {
        "colab": {
          "base_uri": "https://localhost:8080/"
        },
        "collapsed": true,
        "id": "ad246f35-220e-4d54-bab7-ea68f43e0d20",
        "outputId": "698decfc-1afb-4c04-a209-06563887f356"
      },
      "outputs": [
        {
          "output_type": "execute_result",
          "data": {
            "text/plain": [
              "[0,\n",
              " 0,\n",
              " 1,\n",
              " 1,\n",
              " 0,\n",
              " 0,\n",
              " 0,\n",
              " 0,\n",
              " 0,\n",
              " 1,\n",
              " 1,\n",
              " 1,\n",
              " 1,\n",
              " 0,\n",
              " 0,\n",
              " 1,\n",
              " 1,\n",
              " 0,\n",
              " 0,\n",
              " 0,\n",
              " 0,\n",
              " 0,\n",
              " 0,\n",
              " 0,\n",
              " 0,\n",
              " 1,\n",
              " 0,\n",
              " 0,\n",
              " 0,\n",
              " 0,\n",
              " 0,\n",
              " 1,\n",
              " 1,\n",
              " 1,\n",
              " 0,\n",
              " 0,\n",
              " 1,\n",
              " 0,\n",
              " 0,\n",
              " 0,\n",
              " 0,\n",
              " 0,\n",
              " 0,\n",
              " 0,\n",
              " 0,\n",
              " 0,\n",
              " 0,\n",
              " 0,\n",
              " 0,\n",
              " 0,\n",
              " 0,\n",
              " 1,\n",
              " 1,\n",
              " 1,\n",
              " 1,\n",
              " 0,\n",
              " 1,\n",
              " 1,\n",
              " 1,\n",
              " 1,\n",
              " 0,\n",
              " 0,\n",
              " 0,\n",
              " 0,\n",
              " 0,\n",
              " 0,\n",
              " 0,\n",
              " 0,\n",
              " 1,\n",
              " 0,\n",
              " 0,\n",
              " 0,\n",
              " 1,\n",
              " 0,\n",
              " 0,\n",
              " 0,\n",
              " 0,\n",
              " 1,\n",
              " 1,\n",
              " 1,\n",
              " 1,\n",
              " 1,\n",
              " 0,\n",
              " 0,\n",
              " 0,\n",
              " 1,\n",
              " 1,\n",
              " 1,\n",
              " 1,\n",
              " 0,\n",
              " 0,\n",
              " 0,\n",
              " 1,\n",
              " 1,\n",
              " 1,\n",
              " 1,\n",
              " 0,\n",
              " 0,\n",
              " 0,\n",
              " 0,\n",
              " 0,\n",
              " 0,\n",
              " 0,\n",
              " 0,\n",
              " 0,\n",
              " 0,\n",
              " 0,\n",
              " 0,\n",
              " 0,\n",
              " 0,\n",
              " 0,\n",
              " 0,\n",
              " 1,\n",
              " 1,\n",
              " 0,\n",
              " 0,\n",
              " 0,\n",
              " 1,\n",
              " 0,\n",
              " 0,\n",
              " 0,\n",
              " 0,\n",
              " 1,\n",
              " 1,\n",
              " 0,\n",
              " 0,\n",
              " 0,\n",
              " 0,\n",
              " 0,\n",
              " 0,\n",
              " 0,\n",
              " 1,\n",
              " 1,\n",
              " 1,\n",
              " 1,\n",
              " 1,\n",
              " 0,\n",
              " 0,\n",
              " 1,\n",
              " 1,\n",
              " 0,\n",
              " 0,\n",
              " 1,\n",
              " 1,\n",
              " 0,\n",
              " 0,\n",
              " 0,\n",
              " 0,\n",
              " 0,\n",
              " 1,\n",
              " 1,\n",
              " 1,\n",
              " 1,\n",
              " 0,\n",
              " 0,\n",
              " 0,\n",
              " 0,\n",
              " 0,\n",
              " 0,\n",
              " 0,\n",
              " 0,\n",
              " 0,\n",
              " 0,\n",
              " 0,\n",
              " 0,\n",
              " 0,\n",
              " 0,\n",
              " 0,\n",
              " 0,\n",
              " 0,\n",
              " 0,\n",
              " 0,\n",
              " 1,\n",
              " 1,\n",
              " 1,\n",
              " 0,\n",
              " 1,\n",
              " 1,\n",
              " 0,\n",
              " 0,\n",
              " 1,\n",
              " 0,\n",
              " 0,\n",
              " 0,\n",
              " 0,\n",
              " 1,\n",
              " 0,\n",
              " 0,\n",
              " 0,\n",
              " 0,\n",
              " 1,\n",
              " 1,\n",
              " 1,\n",
              " 0,\n",
              " 0,\n",
              " 0,\n",
              " 0,\n",
              " 0,\n",
              " 0,\n",
              " 0,\n",
              " 0,\n",
              " 0,\n",
              " 0,\n",
              " 0,\n",
              " 1,\n",
              " 0,\n",
              " 1,\n",
              " 0,\n",
              " 0,\n",
              " 0,\n",
              " 0,\n",
              " 1,\n",
              " 1,\n",
              " 1,\n",
              " 0,\n",
              " 0,\n",
              " 0,\n",
              " 0,\n",
              " 1,\n",
              " 0,\n",
              " 0,\n",
              " 0,\n",
              " 0,\n",
              " 0,\n",
              " 0,\n",
              " 1,\n",
              " 0,\n",
              " 0,\n",
              " 0,\n",
              " 0,\n",
              " 0,\n",
              " 0,\n",
              " 1,\n",
              " 1,\n",
              " 0,\n",
              " 0,\n",
              " 0,\n",
              " 0,\n",
              " 0,\n",
              " 0,\n",
              " 0,\n",
              " 0,\n",
              " 0,\n",
              " 0,\n",
              " 1,\n",
              " 1,\n",
              " 1,\n",
              " 0,\n",
              " 0,\n",
              " 0,\n",
              " 0,\n",
              " 1,\n",
              " 0,\n",
              " 0,\n",
              " 0,\n",
              " 0,\n",
              " 0,\n",
              " 0,\n",
              " 1,\n",
              " 0,\n",
              " 0,\n",
              " 0,\n",
              " 0,\n",
              " 1,\n",
              " 0,\n",
              " 0,\n",
              " 0,\n",
              " 0,\n",
              " 0,\n",
              " 1,\n",
              " 0,\n",
              " 0,\n",
              " 1,\n",
              " 1,\n",
              " 1,\n",
              " 0,\n",
              " 0,\n",
              " 0,\n",
              " 0,\n",
              " 0,\n",
              " 0,\n",
              " 0,\n",
              " 0,\n",
              " 0,\n",
              " 1,\n",
              " 1,\n",
              " 0,\n",
              " 0,\n",
              " 0,\n",
              " 0,\n",
              " 0,\n",
              " 0,\n",
              " 0,\n",
              " 1,\n",
              " 1,\n",
              " 1,\n",
              " 0,\n",
              " 0,\n",
              " 0,\n",
              " 0,\n",
              " 1,\n",
              " 1,\n",
              " 0,\n",
              " 0,\n",
              " 0,\n",
              " 0,\n",
              " 0,\n",
              " 0,\n",
              " 0,\n",
              " 1,\n",
              " 1,\n",
              " 1,\n",
              " 0,\n",
              " 0,\n",
              " 1,\n",
              " 1,\n",
              " 1,\n",
              " 0,\n",
              " 0,\n",
              " 1,\n",
              " 1,\n",
              " 1,\n",
              " 1,\n",
              " 0,\n",
              " 0,\n",
              " 0,\n",
              " 0,\n",
              " 0,\n",
              " 0,\n",
              " 0,\n",
              " 0,\n",
              " 1,\n",
              " 0,\n",
              " 0,\n",
              " 1,\n",
              " 1,\n",
              " 0,\n",
              " 0,\n",
              " 0,\n",
              " 1,\n",
              " 0,\n",
              " 0,\n",
              " 0,\n",
              " 0,\n",
              " 1,\n",
              " 0,\n",
              " 0,\n",
              " 0,\n",
              " 0,\n",
              " 0,\n",
              " 1,\n",
              " 0,\n",
              " 0,\n",
              " 0,\n",
              " 0,\n",
              " 0,\n",
              " 0,\n",
              " 1,\n",
              " 0,\n",
              " 0,\n",
              " 0,\n",
              " 0,\n",
              " 1,\n",
              " 0,\n",
              " 0,\n",
              " 0,\n",
              " 1,\n",
              " 0,\n",
              " 0,\n",
              " 0,\n",
              " 0,\n",
              " 0,\n",
              " 1,\n",
              " 0,\n",
              " 0,\n",
              " 1,\n",
              " 1,\n",
              " 1,\n",
              " 0,\n",
              " 0,\n",
              " 1,\n",
              " 1,\n",
              " 0,\n",
              " 0,\n",
              " 0,\n",
              " 0,\n",
              " 0,\n",
              " 0,\n",
              " 0,\n",
              " 0,\n",
              " 0,\n",
              " 0,\n",
              " 1,\n",
              " 0,\n",
              " 0,\n",
              " 0,\n",
              " 0,\n",
              " 0,\n",
              " 0,\n",
              " 1,\n",
              " 1,\n",
              " 0,\n",
              " 0,\n",
              " 0,\n",
              " 0,\n",
              " 0,\n",
              " 0,\n",
              " 0,\n",
              " 1,\n",
              " 1,\n",
              " 1,\n",
              " 0,\n",
              " 0,\n",
              " 1,\n",
              " 1,\n",
              " 0,\n",
              " 0,\n",
              " 0,\n",
              " 0,\n",
              " 0,\n",
              " 0,\n",
              " 0,\n",
              " 0,\n",
              " 0,\n",
              " 0,\n",
              " 0,\n",
              " 0,\n",
              " 0,\n",
              " 0,\n",
              " 0,\n",
              " 0,\n",
              " 0,\n",
              " 0,\n",
              " 0,\n",
              " 0,\n",
              " 0,\n",
              " 1,\n",
              " 1,\n",
              " 0,\n",
              " 0,\n",
              " 0,\n",
              " 0,\n",
              " 0,\n",
              " 0,\n",
              " 0,\n",
              " 0,\n",
              " 0,\n",
              " 1,\n",
              " 0,\n",
              " 0,\n",
              " 0,\n",
              " 1,\n",
              " 1,\n",
              " 1,\n",
              " 0,\n",
              " 1,\n",
              " 0,\n",
              " 0,\n",
              " 1,\n",
              " 0,\n",
              " 0,\n",
              " 0,\n",
              " 0,\n",
              " 1,\n",
              " 1,\n",
              " 1,\n",
              " 0,\n",
              " 0,\n",
              " 0,\n",
              " 0,\n",
              " 0,\n",
              " 0,\n",
              " 0,\n",
              " 0,\n",
              " 0,\n",
              " 0,\n",
              " 1,\n",
              " 0,\n",
              " 1,\n",
              " 1,\n",
              " 1,\n",
              " 1,\n",
              " 1,\n",
              " 1,\n",
              " 0,\n",
              " 0,\n",
              " 0,\n",
              " 0,\n",
              " 0,\n",
              " 0,\n",
              " 0,\n",
              " 0,\n",
              " 0,\n",
              " 1,\n",
              " 1,\n",
              " 0,\n",
              " 0,\n",
              " 0,\n",
              " 0,\n",
              " 0,\n",
              " 0,\n",
              " 0,\n",
              " 0,\n",
              " 0,\n",
              " 0,\n",
              " 0,\n",
              " 0,\n",
              " 1,\n",
              " 1,\n",
              " 0,\n",
              " 0,\n",
              " 0,\n",
              " 0,\n",
              " 0,\n",
              " 0,\n",
              " 0,\n",
              " 1,\n",
              " 1,\n",
              " 0,\n",
              " 0,\n",
              " 1,\n",
              " 1,\n",
              " 1,\n",
              " 0,\n",
              " 1,\n",
              " 0,\n",
              " 0,\n",
              " 1,\n",
              " 0,\n",
              " 0,\n",
              " 1,\n",
              " 1,\n",
              " 1,\n",
              " 1,\n",
              " 0,\n",
              " 0,\n",
              " 1,\n",
              " 1,\n",
              " 0,\n",
              " 0,\n",
              " 0,\n",
              " 0,\n",
              " 0,\n",
              " 0,\n",
              " 1,\n",
              " 1,\n",
              " 0,\n",
              " 0,\n",
              " 0,\n",
              " 0,\n",
              " 0,\n",
              " 1,\n",
              " 0,\n",
              " 0,\n",
              " 0,\n",
              " 0,\n",
              " 0,\n",
              " 0,\n",
              " 1,\n",
              " 1,\n",
              " 1,\n",
              " 0,\n",
              " 1,\n",
              " 0,\n",
              " 0,\n",
              " 0,\n",
              " 0,\n",
              " 1,\n",
              " 1,\n",
              " 0,\n",
              " 0,\n",
              " 0,\n",
              " 0,\n",
              " 0,\n",
              " 0,\n",
              " 0,\n",
              " 0,\n",
              " 0,\n",
              " 1,\n",
              " 1,\n",
              " 1,\n",
              " 0,\n",
              " 0,\n",
              " 1,\n",
              " 0,\n",
              " 0,\n",
              " 0,\n",
              " 0,\n",
              " 0,\n",
              " 1,\n",
              " 1,\n",
              " 1,\n",
              " 1,\n",
              " 0,\n",
              " 1,\n",
              " 1,\n",
              " 0,\n",
              " 0,\n",
              " 0,\n",
              " 0,\n",
              " 0,\n",
              " 0,\n",
              " 0,\n",
              " 0,\n",
              " 1,\n",
              " 1,\n",
              " 0,\n",
              " 0,\n",
              " 0,\n",
              " 0,\n",
              " 1,\n",
              " 1,\n",
              " 0,\n",
              " 0,\n",
              " 1,\n",
              " 0,\n",
              " 0,\n",
              " 0,\n",
              " 0,\n",
              " 0,\n",
              " 0,\n",
              " 0,\n",
              " 0,\n",
              " 0,\n",
              " 0,\n",
              " 0,\n",
              " 0,\n",
              " 0,\n",
              " 1,\n",
              " 1,\n",
              " 0,\n",
              " 0,\n",
              " 0,\n",
              " 0,\n",
              " 1,\n",
              " 1,\n",
              " 1,\n",
              " 1,\n",
              " 1,\n",
              " 1,\n",
              " 1,\n",
              " 0,\n",
              " 0,\n",
              " 0,\n",
              " 0,\n",
              " 0,\n",
              " 1,\n",
              " 0,\n",
              " 0,\n",
              " 0,\n",
              " 1,\n",
              " 0,\n",
              " 1,\n",
              " 0,\n",
              " 0,\n",
              " 0,\n",
              " 1,\n",
              " 1,\n",
              " 0,\n",
              " 0,\n",
              " 0,\n",
              " 0,\n",
              " 0,\n",
              " 1,\n",
              " 1,\n",
              " 0,\n",
              " 0,\n",
              " 0,\n",
              " 0,\n",
              " 1,\n",
              " 1,\n",
              " 0,\n",
              " 0,\n",
              " 0,\n",
              " 0,\n",
              " 0,\n",
              " 0,\n",
              " 0,\n",
              " 0,\n",
              " 0,\n",
              " 1,\n",
              " 0,\n",
              " 0,\n",
              " 0,\n",
              " 0,\n",
              " 1,\n",
              " 0,\n",
              " 0,\n",
              " 0,\n",
              " 0,\n",
              " 1,\n",
              " 1,\n",
              " 1,\n",
              " 0,\n",
              " 0,\n",
              " 1,\n",
              " 0,\n",
              " 0,\n",
              " 0,\n",
              " 0,\n",
              " 0,\n",
              " 0,\n",
              " 0,\n",
              " 0,\n",
              " 1,\n",
              " 1,\n",
              " 0,\n",
              " 1,\n",
              " 1,\n",
              " 0,\n",
              " 0,\n",
              " 1,\n",
              " 1,\n",
              " 0,\n",
              " 0,\n",
              " 0,\n",
              " 0,\n",
              " 1,\n",
              " 0,\n",
              " 0,\n",
              " 0,\n",
              " 0,\n",
              " 0,\n",
              " 1,\n",
              " 1,\n",
              " 0,\n",
              " 0,\n",
              " 0,\n",
              " 0,\n",
              " 0,\n",
              " 0,\n",
              " 0,\n",
              " 0,\n",
              " 0,\n",
              " 0,\n",
              " 0,\n",
              " 0,\n",
              " 0,\n",
              " 0,\n",
              " 0,\n",
              " 0,\n",
              " 0,\n",
              " 0,\n",
              " 0,\n",
              " 1,\n",
              " 1,\n",
              " 1,\n",
              " 1,\n",
              " 0,\n",
              " 0,\n",
              " 0,\n",
              " 1,\n",
              " 0,\n",
              " 0,\n",
              " 0,\n",
              " 0,\n",
              " 0,\n",
              " 0,\n",
              " 0,\n",
              " 0,\n",
              " 0,\n",
              " 0,\n",
              " 0,\n",
              " 0,\n",
              " 0,\n",
              " 0,\n",
              " 0,\n",
              " 1,\n",
              " 1,\n",
              " 0,\n",
              " 0,\n",
              " 0,\n",
              " 0,\n",
              " 0,\n",
              " 0,\n",
              " 1,\n",
              " 0,\n",
              " 0,\n",
              " 0,\n",
              " 1,\n",
              " 1,\n",
              " 1,\n",
              " 0,\n",
              " 0,\n",
              " 1,\n",
              " 0,\n",
              " 0,\n",
              " 0,\n",
              " 0,\n",
              " 0,\n",
              " 0,\n",
              " 1,\n",
              " 1,\n",
              " 1,\n",
              " 0,\n",
              " 0,\n",
              " 0,\n",
              " 0,\n",
              " 0,\n",
              " 1,\n",
              " 1,\n",
              " 0,\n",
              " 0,\n",
              " 0,\n",
              " 0,\n",
              " 1,\n",
              " 1,\n",
              " 1,\n",
              " 0,\n",
              " 0,\n",
              " 0,\n",
              " 1,\n",
              " 0,\n",
              " 0,\n",
              " 0,\n",
              " 0,\n",
              " 0,\n",
              " 0,\n",
              " 0,\n",
              " 1,\n",
              " 1,\n",
              " 1,\n",
              " 1,\n",
              " 1,\n",
              " 0,\n",
              " 0,\n",
              " 1,\n",
              " 0,\n",
              " 0,\n",
              " 0,\n",
              " 0,\n",
              " 1,\n",
              " 0,\n",
              " 0,\n",
              " 0,\n",
              " 0,\n",
              " 0,\n",
              " 0,\n",
              " 0,\n",
              " 1,\n",
              " 1,\n",
              " 0,\n",
              " 0,\n",
              " 0,\n",
              " 0,\n",
              " 0,\n",
              " 0,\n",
              " 0,\n",
              " 0,\n",
              " 0,\n",
              " 0,\n",
              " 0,\n",
              " 0,\n",
              " 0,\n",
              " 0,\n",
              " 0,\n",
              " 0,\n",
              " 0,\n",
              " 0,\n",
              " 1,\n",
              " 0,\n",
              " 0,\n",
              " 0,\n",
              " 0,\n",
              " 0,\n",
              " 0,\n",
              " 1,\n",
              " 1,\n",
              " 1,\n",
              " 1,\n",
              " 0,\n",
              " 0,\n",
              " 0,\n",
              " 0,\n",
              " 0,\n",
              " 0,\n",
              " 0,\n",
              " 1,\n",
              " 0,\n",
              " 0,\n",
              " 0,\n",
              " 0,\n",
              " 0,\n",
              " 0,\n",
              " 0,\n",
              " 0,\n",
              " 0,\n",
              " 0,\n",
              " 0,\n",
              " 0,\n",
              " 1,\n",
              " 1,\n",
              " 0,\n",
              " 0,\n",
              " 0,\n",
              " 0,\n",
              " 1,\n",
              " 1,\n",
              " 1,\n",
              " 1,\n",
              " 0,\n",
              " 0,\n",
              " 0,\n",
              " 0,\n",
              " 0,\n",
              " 1,\n",
              " 1,\n",
              " 1,\n",
              " 0,\n",
              " 0,\n",
              " 0,\n",
              " 1,\n",
              " 1,\n",
              " 0,\n",
              " 0,\n",
              " 0,\n",
              " 0,\n",
              " 1,\n",
              " 0,\n",
              " 0,\n",
              " 1,\n",
              " 1,\n",
              " 1,\n",
              " 0,\n",
              " 0,\n",
              " 1,\n",
              " 0,\n",
              " 0,\n",
              " 0,\n",
              " 0,\n",
              " 0,\n",
              " 0,\n",
              " 0,\n",
              " 0,\n",
              " 0,\n",
              " 0,\n",
              " 0,\n",
              " 0,\n",
              " 0,\n",
              " 0,\n",
              " 0,\n",
              " 0,\n",
              " 0,\n",
              " 0,\n",
              " 0,\n",
              " 1,\n",
              " 0,\n",
              " 0,\n",
              " 0,\n",
              " 0,\n",
              " 0,\n",
              " 0,\n",
              " 0,\n",
              " 0,\n",
              " 1,\n",
              " 1,\n",
              " 1,\n",
              " 0,\n",
              " 0,\n",
              " 0,\n",
              " 0,\n",
              " 0,\n",
              " 0,\n",
              " 0,\n",
              " 0,\n",
              " 0,\n",
              " 0,\n",
              " 1,\n",
              " 0,\n",
              " 0,\n",
              " 1,\n",
              " 1,\n",
              " 1,\n",
              " 0,\n",
              " 0,\n",
              " 1,\n",
              " 0,\n",
              " 0,\n",
              " 0,\n",
              " 0,\n",
              " 0,\n",
              " 0,\n",
              " 0,\n",
              " 0,\n",
              " 0,\n",
              " 0,\n",
              " 0,\n",
              " 0,\n",
              " 0,\n",
              " 0,\n",
              " 0,\n",
              " 0,\n",
              " 0,\n",
              " 0,\n",
              " 0,\n",
              " 1,\n",
              " 0,\n",
              " 0,\n",
              " 0,\n",
              " 0,\n",
              " ...]"
            ]
          },
          "metadata": {},
          "execution_count": 4
        }
      ],
      "source": [
        "labels=[]\n",
        "for i in range (len(data['Class'])):\n",
        "    labels.append(data['Class'][i])\n",
        "labels                "
      ],
      "id": "ad246f35-220e-4d54-bab7-ea68f43e0d20"
    },
    {
      "cell_type": "code",
      "execution_count": null,
      "metadata": {
        "colab": {
          "base_uri": "https://localhost:8080/"
        },
        "id": "6e6dd1c9-4cf8-4aa7-96a5-a2eb80cf9571",
        "outputId": "e62e6e96-6d8c-4882-9559-bdb30d2259d5"
      },
      "outputs": [
        {
          "output_type": "execute_result",
          "data": {
            "text/plain": [
              "3762"
            ]
          },
          "metadata": {},
          "execution_count": 10
        }
      ],
      "source": [
        "import numpy as np\n",
        "labels_array=np.asarray(labels)\n",
        "len(labels_array)"
      ],
      "id": "6e6dd1c9-4cf8-4aa7-96a5-a2eb80cf9571"
    },
    {
      "cell_type": "code",
      "execution_count": null,
      "metadata": {
        "colab": {
          "base_uri": "https://localhost:8080/"
        },
        "id": "dfba2e45-d013-4c25-9675-59e365cc4b49",
        "outputId": "4f104347-160b-40e3-d99c-260e18240795"
      },
      "outputs": [
        {
          "output_type": "execute_result",
          "data": {
            "text/plain": [
              "1683"
            ]
          },
          "metadata": {},
          "execution_count": 7
        }
      ],
      "source": [
        "empty_yes=[]\n",
        "yes_t=np.nonzero(labels_array)\n",
        "yes_t=np.reshape(np.asarray(yes_t),1683)\n",
        "\n",
        "for i in range(len(yes_t)):\n",
        "    if i in yes_t:\n",
        "        empty_yes.append(1)\n",
        "    else:\n",
        "        empty_yes.append(0)\n",
        "    \n",
        "               \n",
        "               \n",
        "len(empty_yes)\n"
      ],
      "id": "dfba2e45-d013-4c25-9675-59e365cc4b49"
    },
    {
      "cell_type": "code",
      "execution_count": null,
      "metadata": {
        "colab": {
          "base_uri": "https://localhost:8080/"
        },
        "id": "24699026-0509-46a1-8766-df291b2b6640",
        "outputId": "37cac04e-f0d2-4a19-d6c6-0a9796879a0c"
      },
      "outputs": [
        {
          "output_type": "execute_result",
          "data": {
            "text/plain": [
              "2079"
            ]
          },
          "metadata": {},
          "execution_count": 9
        }
      ],
      "source": [
        "empty_no=[]\n",
        "no_t=np.where(labels_array == 0)[0]\n",
        "no_t[4:10]\n",
        "\n",
        "for i in range(len(no_t)):\n",
        "    if i in no_t:\n",
        "        empty_no.append(1)\n",
        "    else:\n",
        "        empty_no.append(0)\n",
        "    \n",
        "               \n",
        "               \n",
        "len(empty_no)"
      ],
      "id": "24699026-0509-46a1-8766-df291b2b6640"
    },
    {
      "cell_type": "code",
      "execution_count": null,
      "metadata": {
        "id": "4c387dfc-40df-46f4-ae3a-e76bae7c0dc2"
      },
      "outputs": [],
      "source": [],
      "id": "4c387dfc-40df-46f4-ae3a-e76bae7c0dc2"
    },
    {
      "cell_type": "code",
      "execution_count": null,
      "metadata": {
        "colab": {
          "base_uri": "https://localhost:8080/"
        },
        "id": "054478ad-71e9-4115-a6ad-f1ce3c8c1522",
        "outputId": "ea3afb33-e85b-4978-8395-7a3e78b98f17"
      },
      "outputs": [
        {
          "output_type": "execute_result",
          "data": {
            "text/plain": [
              "2079"
            ]
          },
          "metadata": {},
          "execution_count": 15
        }
      ],
      "source": [
        "len(no_t)"
      ],
      "id": "054478ad-71e9-4115-a6ad-f1ce3c8c1522"
    },
    {
      "cell_type": "code",
      "execution_count": null,
      "metadata": {
        "id": "447121d7-3462-4f3a-93d4-193c392cd8de",
        "colab": {
          "base_uri": "https://localhost:8080/",
          "height": 235
        },
        "outputId": "1546f8a8-92d0-487f-eeff-1bb41cdb7c5b"
      },
      "outputs": [
        {
          "output_type": "error",
          "ename": "FileExistsError",
          "evalue": "ignored",
          "traceback": [
            "\u001b[0;31m---------------------------------------------------------------------------\u001b[0m",
            "\u001b[0;31mFileExistsError\u001b[0m                           Traceback (most recent call last)",
            "\u001b[0;32m<ipython-input-30-a35451e5f58e>\u001b[0m in \u001b[0;36m<module>\u001b[0;34m\u001b[0m\n\u001b[1;32m      6\u001b[0m \u001b[0;31m# store our smaller dataset\u001b[0m\u001b[0;34m\u001b[0m\u001b[0;34m\u001b[0m\u001b[0;34m\u001b[0m\u001b[0m\n\u001b[1;32m      7\u001b[0m \u001b[0mbase_dir\u001b[0m \u001b[0;34m=\u001b[0m \u001b[0;34m'/content/drive/MyDrive/lo'\u001b[0m\u001b[0;34m\u001b[0m\u001b[0;34m\u001b[0m\u001b[0m\n\u001b[0;32m----> 8\u001b[0;31m \u001b[0mos\u001b[0m\u001b[0;34m.\u001b[0m\u001b[0mmkdir\u001b[0m\u001b[0;34m(\u001b[0m\u001b[0mbase_dir\u001b[0m\u001b[0;34m)\u001b[0m\u001b[0;34m\u001b[0m\u001b[0;34m\u001b[0m\u001b[0m\n\u001b[0m\u001b[1;32m      9\u001b[0m \u001b[0;34m\u001b[0m\u001b[0m\n\u001b[1;32m     10\u001b[0m \u001b[0;31m# Directories for our training,\u001b[0m\u001b[0;34m\u001b[0m\u001b[0;34m\u001b[0m\u001b[0;34m\u001b[0m\u001b[0m\n",
            "\u001b[0;31mFileExistsError\u001b[0m: [Errno 17] File exists: '/content/drive/MyDrive/lo'"
          ]
        }
      ],
      "source": [
        "# The path to the directory where the original\n",
        "# dataset was uncompressed\n",
        "original_dataset_dir = '/content/drive/MyDrive/final/Brain Tumor.zip (Unzipped Files)/Brain Tumor'\n",
        "\n",
        "# The directory where we will\n",
        "# store our smaller dataset\n",
        "base_dir = '/content/drive/MyDrive/lo'\n",
        "os.mkdir(base_dir)\n",
        "\n",
        "# Directories for our training,\n",
        "# validation and test splits\n",
        "train_dir = os.path.join(base_dir, 'train')\n",
        "os.mkdir(train_dir)\n",
        "validation_dir = os.path.join(base_dir, 'validation')\n",
        "os.mkdir(validation_dir)\n",
        "test_dir = os.path.join(base_dir, 'test')\n",
        "os.mkdir(test_dir)\n",
        "\n",
        "# Directory with our training cat pictures\n",
        "traindir_y = os.path.join(train_dir, 'y')\n",
        "os.mkdir(traindir_y)\n",
        "\n",
        "# Directory with our training dog pictures\n",
        "traindir_n = os.path.join(train_dir, 'n')\n",
        "os.mkdir(traindir_n)\n",
        "\n",
        "valid_y = os.path.join(validation_dir, 'y')\n",
        "os.mkdir(valid_y)\n",
        "\n",
        "# Directory with our training dog pictures\n",
        "valid_n = os.path.join(validation_dir, 'n')\n",
        "os.mkdir(valid_n)\n",
        "\n",
        "\n",
        "test_y = os.path.join(test_dir, 'y')\n",
        "os.mkdir(test_y)\n",
        "\n",
        "# Directory with our training dog pictures\n",
        "test_n = os.path.join(test_dir, 'n')\n",
        "os.mkdir(test_n)\n",
        "\n",
        "\n",
        "\n",
        "\n",
        "\n"
      ],
      "id": "447121d7-3462-4f3a-93d4-193c392cd8de"
    },
    {
      "cell_type": "code",
      "execution_count": null,
      "metadata": {
        "id": "298c717b-6750-48fa-ba3f-8eac6b5aeb95",
        "colab": {
          "base_uri": "https://localhost:8080/"
        },
        "outputId": "0335cde1-e24d-4dae-f87c-91e252c9b5aa"
      },
      "outputs": [
        {
          "output_type": "execute_result",
          "data": {
            "text/plain": [
              "0"
            ]
          },
          "metadata": {},
          "execution_count": 53
        }
      ],
      "source": [
        "no_t[0]"
      ],
      "id": "298c717b-6750-48fa-ba3f-8eac6b5aeb95"
    },
    {
      "cell_type": "code",
      "execution_count": null,
      "metadata": {
        "id": "cf5cb153-3276-4811-8b26-2c697f5c30e7"
      },
      "outputs": [],
      "source": [
        "\n",
        "fnames = ['{}.jpg'.format(i) for i in yes_t[0:1500]]\n",
        "for fname in fnames:\n",
        "    src = os.path.join(original_dataset_dir, fname)\n",
        "    dst = os.path.join(traindir_y,fname)\n",
        "    shutil.copyfile(src, dst)"
      ],
      "id": "cf5cb153-3276-4811-8b26-2c697f5c30e7"
    },
    {
      "cell_type": "code",
      "execution_count": null,
      "metadata": {
        "id": "nKoYi5C67FHs"
      },
      "outputs": [],
      "source": [
        "a=\"/content/drive/MyDrive/final/Brain Tumor.zip (Unzipped Files)/Brain Tumor/Image2.jpg\"\n"
      ],
      "id": "nKoYi5C67FHs"
    },
    {
      "cell_type": "code",
      "execution_count": null,
      "metadata": {
        "id": "f11a096f-03e2-4af8-9b9f-e127588ef5c3"
      },
      "outputs": [],
      "source": [],
      "id": "f11a096f-03e2-4af8-9b9f-e127588ef5c3"
    },
    {
      "cell_type": "code",
      "execution_count": null,
      "metadata": {
        "id": "1c511f4c-024b-4887-94a7-f0b6c81bd3be"
      },
      "outputs": [],
      "source": [
        "fnames = ['{}.jpg'.format(i) for i in no_t[0:1500]]\n",
        "for fname in fnames:\n",
        "    src = os.path.join(original_dataset_dir, fname)\n",
        "    dst = os.path.join(traindir_n, fname)\n",
        "    shutil.copyfile(src, dst)\n",
        "    "
      ],
      "id": "1c511f4c-024b-4887-94a7-f0b6c81bd3be"
    },
    {
      "cell_type": "code",
      "execution_count": null,
      "metadata": {
        "id": "f9fdf6b7-fcbf-4ec6-a2b0-95c16be8a316"
      },
      "outputs": [],
      "source": [
        "fnames = ['{}.jpg'.format(i) for i in yes_t[1500:1600]]\n",
        "for fname in fnames:\n",
        "    src = os.path.join(original_dataset_dir, fname)\n",
        "    dst = os.path.join(valid_y, fname)\n",
        "    shutil.copyfile(src, dst)\n",
        "          \n",
        "          \n",
        "          "
      ],
      "id": "f9fdf6b7-fcbf-4ec6-a2b0-95c16be8a316"
    },
    {
      "cell_type": "code",
      "execution_count": null,
      "metadata": {
        "id": "6b38f1b6-5052-4308-9a70-64d609f4a795"
      },
      "outputs": [],
      "source": [
        "fnames = ['{}.jpg'.format(i) for i in no_t[1500:1600]]\n",
        "for fname in fnames:\n",
        "    src = os.path.join(original_dataset_dir, fname)\n",
        "    dst = os.path.join(valid_n, fname)\n",
        "    shutil.copyfile(src, dst)          \n",
        "          "
      ],
      "id": "6b38f1b6-5052-4308-9a70-64d609f4a795"
    },
    {
      "cell_type": "code",
      "execution_count": null,
      "metadata": {
        "id": "ef743988-47e4-4e97-bdbd-130b3a3314a5"
      },
      "outputs": [],
      "source": [
        "fnames = ['{}.jpg'.format(i) for i in yes_t[1600:1680]]\n",
        "for fname in fnames:\n",
        "    src = os.path.join(original_dataset_dir, fname)\n",
        "    dst = os.path.join(test_y, fname)\n",
        "    shutil.copyfile(src, dst)\n",
        "    \n",
        "# Copy next 500 dog images to validation_dogs_dir\n",
        "fnames = ['{}.jpg'.format(i) for i in no_t[1600:2000]]\n",
        "  for fname in fnames:\n",
        "    src = os.path.join(original_dataset_dir, fname)\n",
        "    dst = os.path.join(test_n, fname)\n",
        "    shutil.copyfile(src, dst)\n",
        "    "
      ],
      "id": "ef743988-47e4-4e97-bdbd-130b3a3314a5"
    },
    {
      "cell_type": "code",
      "execution_count": null,
      "metadata": {
        "colab": {
          "base_uri": "https://localhost:8080/",
          "height": 380
        },
        "collapsed": true,
        "id": "ca689cb7-8772-4d18-9d76-1bc94fbbbb33",
        "outputId": "e51916ba-9c42-4f8f-81a8-de4e1c9666be"
      },
      "outputs": [
        {
          "output_type": "error",
          "ename": "FileNotFoundError",
          "evalue": "ignored",
          "traceback": [
            "\u001b[0;31m---------------------------------------------------------------------------\u001b[0m",
            "\u001b[0;31mFileNotFoundError\u001b[0m                         Traceback (most recent call last)",
            "\u001b[0;32m<ipython-input-31-5f4012916e62>\u001b[0m in \u001b[0;36m<module>\u001b[0;34m\u001b[0m\n\u001b[1;32m      1\u001b[0m \u001b[0;32mfrom\u001b[0m \u001b[0mtensorflow\u001b[0m\u001b[0;34m.\u001b[0m\u001b[0mkeras\u001b[0m\u001b[0;34m.\u001b[0m\u001b[0mpreprocessing\u001b[0m\u001b[0;34m.\u001b[0m\u001b[0mimage\u001b[0m \u001b[0;32mimport\u001b[0m \u001b[0mload_img\u001b[0m\u001b[0;34m\u001b[0m\u001b[0;34m\u001b[0m\u001b[0m\n\u001b[1;32m      2\u001b[0m \u001b[0;31m# load the image\u001b[0m\u001b[0;34m\u001b[0m\u001b[0;34m\u001b[0m\u001b[0;34m\u001b[0m\u001b[0m\n\u001b[0;32m----> 3\u001b[0;31m \u001b[0mimg\u001b[0m \u001b[0;34m=\u001b[0m \u001b[0mload_img\u001b[0m\u001b[0;34m(\u001b[0m\u001b[0;34m'/content/drive/MyDrive/hlo/test/n/2400.jpg'\u001b[0m\u001b[0;34m)\u001b[0m\u001b[0;34m\u001b[0m\u001b[0;34m\u001b[0m\u001b[0m\n\u001b[0m\u001b[1;32m      4\u001b[0m \u001b[0mimg\u001b[0m\u001b[0;34m=\u001b[0m\u001b[0mnp\u001b[0m\u001b[0;34m.\u001b[0m\u001b[0masarray\u001b[0m\u001b[0;34m(\u001b[0m\u001b[0mimg\u001b[0m\u001b[0;34m)\u001b[0m\u001b[0;34m\u001b[0m\u001b[0;34m\u001b[0m\u001b[0m\n\u001b[1;32m      5\u001b[0m \u001b[0mimg\u001b[0m\u001b[0;34m.\u001b[0m\u001b[0mshape\u001b[0m\u001b[0;34m\u001b[0m\u001b[0;34m\u001b[0m\u001b[0m\n",
            "\u001b[0;32m/usr/local/lib/python3.7/dist-packages/keras/preprocessing/image.py\u001b[0m in \u001b[0;36mload_img\u001b[0;34m(path, grayscale, color_mode, target_size, interpolation)\u001b[0m\n\u001b[1;32m    312\u001b[0m   \"\"\"\n\u001b[1;32m    313\u001b[0m   return image.load_img(path, grayscale=grayscale, color_mode=color_mode,\n\u001b[0;32m--> 314\u001b[0;31m                         target_size=target_size, interpolation=interpolation)\n\u001b[0m\u001b[1;32m    315\u001b[0m \u001b[0;34m\u001b[0m\u001b[0m\n\u001b[1;32m    316\u001b[0m \u001b[0;34m\u001b[0m\u001b[0m\n",
            "\u001b[0;32m/usr/local/lib/python3.7/dist-packages/keras_preprocessing/image/utils.py\u001b[0m in \u001b[0;36mload_img\u001b[0;34m(path, grayscale, color_mode, target_size, interpolation)\u001b[0m\n\u001b[1;32m    111\u001b[0m         raise ImportError('Could not import PIL.Image. '\n\u001b[1;32m    112\u001b[0m                           'The use of `load_img` requires PIL.')\n\u001b[0;32m--> 113\u001b[0;31m     \u001b[0;32mwith\u001b[0m \u001b[0mopen\u001b[0m\u001b[0;34m(\u001b[0m\u001b[0mpath\u001b[0m\u001b[0;34m,\u001b[0m \u001b[0;34m'rb'\u001b[0m\u001b[0;34m)\u001b[0m \u001b[0;32mas\u001b[0m \u001b[0mf\u001b[0m\u001b[0;34m:\u001b[0m\u001b[0;34m\u001b[0m\u001b[0;34m\u001b[0m\u001b[0m\n\u001b[0m\u001b[1;32m    114\u001b[0m         \u001b[0mimg\u001b[0m \u001b[0;34m=\u001b[0m \u001b[0mpil_image\u001b[0m\u001b[0;34m.\u001b[0m\u001b[0mopen\u001b[0m\u001b[0;34m(\u001b[0m\u001b[0mio\u001b[0m\u001b[0;34m.\u001b[0m\u001b[0mBytesIO\u001b[0m\u001b[0;34m(\u001b[0m\u001b[0mf\u001b[0m\u001b[0;34m.\u001b[0m\u001b[0mread\u001b[0m\u001b[0;34m(\u001b[0m\u001b[0;34m)\u001b[0m\u001b[0;34m)\u001b[0m\u001b[0;34m)\u001b[0m\u001b[0;34m\u001b[0m\u001b[0;34m\u001b[0m\u001b[0m\n\u001b[1;32m    115\u001b[0m         \u001b[0;32mif\u001b[0m \u001b[0mcolor_mode\u001b[0m \u001b[0;34m==\u001b[0m \u001b[0;34m'grayscale'\u001b[0m\u001b[0;34m:\u001b[0m\u001b[0;34m\u001b[0m\u001b[0;34m\u001b[0m\u001b[0m\n",
            "\u001b[0;31mFileNotFoundError\u001b[0m: [Errno 2] No such file or directory: '/content/drive/MyDrive/hlo/test/n/2400.jpg'"
          ]
        }
      ],
      "source": [
        "from tensorflow.keras.preprocessing.image import load_img\n",
        "# load the image\n",
        "img = load_img('/content/drive/MyDrive/hlo/test/n/2400.jpg')\n",
        "img=np.asarray(img)\n",
        "img.shape"
      ],
      "id": "ca689cb7-8772-4d18-9d76-1bc94fbbbb33"
    },
    {
      "cell_type": "code",
      "execution_count": null,
      "metadata": {
        "collapsed": true,
        "id": "918311ce-9163-4301-a4f9-67b98919a640"
      },
      "outputs": [],
      "source": [
        "from tensorflow.keras.applications import VGG16\n",
        "conv_base = VGG16(weights='imagenet',include_top=False,input_shape=(240, 240, 3))"
      ],
      "id": "918311ce-9163-4301-a4f9-67b98919a640"
    },
    {
      "cell_type": "code",
      "execution_count": null,
      "metadata": {
        "id": "9ee66a10-f80a-4989-b859-a523f3379132"
      },
      "outputs": [],
      "source": [
        "train_dir=\"/content/drive/MyDrive/lo/train\"\n",
        "validation_dir=\"/content/drive/MyDrive/lo/validation\"\n",
        "test_dir=\"/content/drive/MyDrive/lo/test\"\n",
        "\n",
        "from tensorflow.keras.preprocessing.image import ImageDataGenerator\n",
        "\n",
        "datagen = ImageDataGenerator(rescale=1./255)\n",
        "batch_size = 20\n",
        "def extract_features(directory, sample_count):\n",
        "    \n",
        "    features = np.zeros(shape=(sample_count, 7, 7, 512))\n",
        "    labels = np.zeros(shape=(sample_count))\n",
        "    generator = datagen.flow_from_directory(\n",
        "    directory,\n",
        "    target_size=(240, 240),\n",
        "    batch_size=batch_size,\n",
        "    class_mode='binary')\n",
        "    i=0\n",
        "\n",
        " \n",
        "    for inputs_batch, labels_batch in generator:\n",
        "        features_batch = conv_base.predict(inputs_batch)\n",
        "        features[i * batch_size : (i + 1) * batch_size] = features_batch\n",
        "        labels[i * batch_size : (i + 1) * batch_size] = labels_batch\n",
        "        i += 1\n",
        "        if i * batch_size >= sample_count:\n",
        "            break\n",
        "    return features, labels"
      ],
      "id": "9ee66a10-f80a-4989-b859-a523f3379132"
    },
    {
      "cell_type": "code",
      "execution_count": null,
      "metadata": {
        "colab": {
          "base_uri": "https://localhost:8080/"
        },
        "collapsed": true,
        "id": "03ee064b-d271-4174-a023-bc6eb7359b2b",
        "outputId": "bd4d3769-fcb1-4436-9731-033f5789f72a"
      },
      "outputs": [
        {
          "output_type": "stream",
          "name": "stdout",
          "text": [
            "Found 3000 images belonging to 2 classes.\n"
          ]
        }
      ],
      "source": [
        "train_features, train_labels = extract_features(train_dir, 1500)"
      ],
      "id": "03ee064b-d271-4174-a023-bc6eb7359b2b"
    },
    {
      "cell_type": "code",
      "execution_count": null,
      "metadata": {
        "colab": {
          "base_uri": "https://localhost:8080/"
        },
        "collapsed": true,
        "id": "4c44b3c9-0f21-40cf-8672-0773b1017ec9",
        "outputId": "d721675b-2979-4dcc-c0ca-8154d680f74b"
      },
      "outputs": [
        {
          "output_type": "stream",
          "name": "stdout",
          "text": [
            "Found 200 images belonging to 2 classes.\n"
          ]
        }
      ],
      "source": [
        "validation_features, validation_labels = extract_features(validation_dir, 100)"
      ],
      "id": "4c44b3c9-0f21-40cf-8672-0773b1017ec9"
    },
    {
      "cell_type": "code",
      "execution_count": null,
      "metadata": {
        "colab": {
          "base_uri": "https://localhost:8080/"
        },
        "collapsed": true,
        "id": "44871149-8352-40be-b02d-b321ea699e03",
        "outputId": "6b7367a8-fcaf-48c1-d720-229fd543da4b"
      },
      "outputs": [
        {
          "output_type": "stream",
          "name": "stdout",
          "text": [
            "Found 480 images belonging to 2 classes.\n"
          ]
        }
      ],
      "source": [
        "test_features, test_labels = extract_features(test_dir,80)"
      ],
      "id": "44871149-8352-40be-b02d-b321ea699e03"
    },
    {
      "cell_type": "code",
      "execution_count": null,
      "metadata": {
        "colab": {
          "base_uri": "https://localhost:8080/"
        },
        "collapsed": true,
        "id": "MYNu9fExU246",
        "outputId": "d67d1f98-fd8d-4f3a-bb3b-919ef9132e85"
      },
      "outputs": [
        {
          "data": {
            "text/plain": [
              "80"
            ]
          },
          "execution_count": 28,
          "metadata": {},
          "output_type": "execute_result"
        }
      ],
      "source": [
        "test_labels.size"
      ],
      "id": "MYNu9fExU246"
    },
    {
      "cell_type": "code",
      "execution_count": null,
      "metadata": {
        "id": "XIxz-OhZU7cJ"
      },
      "outputs": [],
      "source": [
        "train_features=np.reshape(train_features, (1500, 7*7* 512))\n",
        "validation_features=np.reshape(validation_features, (100, 7*7* 512))\n",
        "test_features=np.reshape(test_features, (80, 7*7* 512))"
      ],
      "id": "XIxz-OhZU7cJ"
    },
    {
      "cell_type": "code",
      "execution_count": null,
      "metadata": {
        "colab": {
          "base_uri": "https://localhost:8080/"
        },
        "collapsed": true,
        "id": "xW5Y2L0UVd2F",
        "outputId": "b3c7eb31-69bb-4ad5-eacf-ac431e99494e"
      },
      "outputs": [
        {
          "output_type": "stream",
          "name": "stdout",
          "text": [
            "Epoch 1/50\n"
          ]
        },
        {
          "output_type": "stream",
          "name": "stderr",
          "text": [
            "/usr/local/lib/python3.7/dist-packages/keras/optimizer_v2/rmsprop.py:130: UserWarning: The `lr` argument is deprecated, use `learning_rate` instead.\n",
            "  super(RMSprop, self).__init__(name, **kwargs)\n"
          ]
        },
        {
          "output_type": "stream",
          "name": "stdout",
          "text": [
            "75/75 [==============================] - 1s 7ms/step - loss: 0.4898 - acc: 0.7807 - val_loss: 0.4515 - val_acc: 0.7800\n",
            "Epoch 2/50\n",
            "75/75 [==============================] - 0s 6ms/step - loss: 0.3996 - acc: 0.8253 - val_loss: 0.3743 - val_acc: 0.8300\n",
            "Epoch 3/50\n",
            "75/75 [==============================] - 0s 6ms/step - loss: 0.3521 - acc: 0.8440 - val_loss: 0.3783 - val_acc: 0.8500\n",
            "Epoch 4/50\n",
            "75/75 [==============================] - 0s 6ms/step - loss: 0.3272 - acc: 0.8580 - val_loss: 0.3518 - val_acc: 0.8500\n",
            "Epoch 5/50\n",
            "75/75 [==============================] - 0s 6ms/step - loss: 0.2921 - acc: 0.8807 - val_loss: 0.3940 - val_acc: 0.8400\n",
            "Epoch 6/50\n",
            "75/75 [==============================] - 0s 6ms/step - loss: 0.2794 - acc: 0.8800 - val_loss: 0.3449 - val_acc: 0.8600\n",
            "Epoch 7/50\n",
            "75/75 [==============================] - 0s 6ms/step - loss: 0.2590 - acc: 0.8947 - val_loss: 0.3959 - val_acc: 0.8600\n",
            "Epoch 8/50\n",
            "75/75 [==============================] - 0s 6ms/step - loss: 0.2377 - acc: 0.9040 - val_loss: 0.3305 - val_acc: 0.8700\n",
            "Epoch 9/50\n",
            "75/75 [==============================] - 0s 6ms/step - loss: 0.2327 - acc: 0.9120 - val_loss: 0.3521 - val_acc: 0.8600\n",
            "Epoch 10/50\n",
            "75/75 [==============================] - 0s 6ms/step - loss: 0.2212 - acc: 0.9120 - val_loss: 0.3789 - val_acc: 0.8400\n",
            "Epoch 11/50\n",
            "75/75 [==============================] - 0s 6ms/step - loss: 0.2109 - acc: 0.9193 - val_loss: 0.3221 - val_acc: 0.8900\n",
            "Epoch 12/50\n",
            "75/75 [==============================] - 0s 5ms/step - loss: 0.2084 - acc: 0.9133 - val_loss: 0.3296 - val_acc: 0.8700\n",
            "Epoch 13/50\n",
            "75/75 [==============================] - 0s 6ms/step - loss: 0.1889 - acc: 0.9267 - val_loss: 0.3103 - val_acc: 0.9000\n",
            "Epoch 14/50\n",
            "75/75 [==============================] - 0s 6ms/step - loss: 0.1879 - acc: 0.9293 - val_loss: 0.3159 - val_acc: 0.8800\n",
            "Epoch 15/50\n",
            "75/75 [==============================] - 0s 6ms/step - loss: 0.1742 - acc: 0.9340 - val_loss: 0.3157 - val_acc: 0.8900\n",
            "Epoch 16/50\n",
            "75/75 [==============================] - 0s 6ms/step - loss: 0.1771 - acc: 0.9387 - val_loss: 0.4017 - val_acc: 0.8600\n",
            "Epoch 17/50\n",
            "75/75 [==============================] - 0s 6ms/step - loss: 0.1627 - acc: 0.9440 - val_loss: 0.3184 - val_acc: 0.8800\n",
            "Epoch 18/50\n",
            "75/75 [==============================] - 0s 6ms/step - loss: 0.1596 - acc: 0.9473 - val_loss: 0.3174 - val_acc: 0.8800\n",
            "Epoch 19/50\n",
            "75/75 [==============================] - 0s 6ms/step - loss: 0.1457 - acc: 0.9513 - val_loss: 0.3426 - val_acc: 0.8600\n",
            "Epoch 20/50\n",
            "75/75 [==============================] - 0s 6ms/step - loss: 0.1516 - acc: 0.9447 - val_loss: 0.3460 - val_acc: 0.8700\n",
            "Epoch 21/50\n",
            "75/75 [==============================] - 0s 6ms/step - loss: 0.1388 - acc: 0.9593 - val_loss: 0.3160 - val_acc: 0.8800\n",
            "Epoch 22/50\n",
            "75/75 [==============================] - 0s 6ms/step - loss: 0.1414 - acc: 0.9480 - val_loss: 0.3068 - val_acc: 0.8900\n",
            "Epoch 23/50\n",
            "75/75 [==============================] - 0s 6ms/step - loss: 0.1353 - acc: 0.9540 - val_loss: 0.3244 - val_acc: 0.8700\n",
            "Epoch 24/50\n",
            "75/75 [==============================] - 0s 6ms/step - loss: 0.1296 - acc: 0.9587 - val_loss: 0.3292 - val_acc: 0.8700\n",
            "Epoch 25/50\n",
            "75/75 [==============================] - 0s 6ms/step - loss: 0.1265 - acc: 0.9593 - val_loss: 0.3082 - val_acc: 0.8700\n",
            "Epoch 26/50\n",
            "75/75 [==============================] - 0s 6ms/step - loss: 0.1207 - acc: 0.9593 - val_loss: 0.3094 - val_acc: 0.8700\n",
            "Epoch 27/50\n",
            "75/75 [==============================] - 0s 6ms/step - loss: 0.1201 - acc: 0.9587 - val_loss: 0.3046 - val_acc: 0.9000\n",
            "Epoch 28/50\n",
            "75/75 [==============================] - 0s 6ms/step - loss: 0.1065 - acc: 0.9680 - val_loss: 0.4605 - val_acc: 0.8300\n",
            "Epoch 29/50\n",
            "75/75 [==============================] - 0s 6ms/step - loss: 0.1083 - acc: 0.9693 - val_loss: 0.3229 - val_acc: 0.8800\n",
            "Epoch 30/50\n",
            "75/75 [==============================] - 0s 6ms/step - loss: 0.1042 - acc: 0.9673 - val_loss: 0.3151 - val_acc: 0.8900\n",
            "Epoch 31/50\n",
            "75/75 [==============================] - 0s 6ms/step - loss: 0.1055 - acc: 0.9647 - val_loss: 0.3051 - val_acc: 0.9100\n",
            "Epoch 32/50\n",
            "75/75 [==============================] - 0s 6ms/step - loss: 0.0978 - acc: 0.9727 - val_loss: 0.3085 - val_acc: 0.8800\n",
            "Epoch 33/50\n",
            "75/75 [==============================] - 0s 6ms/step - loss: 0.0988 - acc: 0.9660 - val_loss: 0.3066 - val_acc: 0.9000\n",
            "Epoch 34/50\n",
            "75/75 [==============================] - 0s 6ms/step - loss: 0.0967 - acc: 0.9733 - val_loss: 0.3305 - val_acc: 0.8700\n",
            "Epoch 35/50\n",
            "75/75 [==============================] - 0s 6ms/step - loss: 0.0967 - acc: 0.9740 - val_loss: 0.3094 - val_acc: 0.9100\n",
            "Epoch 36/50\n",
            "75/75 [==============================] - 0s 6ms/step - loss: 0.0892 - acc: 0.9747 - val_loss: 0.3094 - val_acc: 0.8900\n",
            "Epoch 37/50\n",
            "75/75 [==============================] - 0s 6ms/step - loss: 0.0899 - acc: 0.9753 - val_loss: 0.3064 - val_acc: 0.8900\n",
            "Epoch 38/50\n",
            "75/75 [==============================] - 0s 6ms/step - loss: 0.0855 - acc: 0.9787 - val_loss: 0.3040 - val_acc: 0.9000\n",
            "Epoch 39/50\n",
            "75/75 [==============================] - 0s 6ms/step - loss: 0.0831 - acc: 0.9747 - val_loss: 0.3034 - val_acc: 0.9100\n",
            "Epoch 40/50\n",
            "75/75 [==============================] - 0s 6ms/step - loss: 0.0823 - acc: 0.9773 - val_loss: 0.3110 - val_acc: 0.8900\n",
            "Epoch 41/50\n",
            "75/75 [==============================] - 0s 6ms/step - loss: 0.0775 - acc: 0.9800 - val_loss: 0.3023 - val_acc: 0.9000\n",
            "Epoch 42/50\n",
            "75/75 [==============================] - 0s 6ms/step - loss: 0.0713 - acc: 0.9800 - val_loss: 0.3095 - val_acc: 0.9000\n",
            "Epoch 43/50\n",
            "75/75 [==============================] - 0s 5ms/step - loss: 0.0731 - acc: 0.9793 - val_loss: 0.3089 - val_acc: 0.9000\n",
            "Epoch 44/50\n",
            "75/75 [==============================] - 0s 6ms/step - loss: 0.0753 - acc: 0.9800 - val_loss: 0.3291 - val_acc: 0.8800\n",
            "Epoch 45/50\n",
            "75/75 [==============================] - 0s 6ms/step - loss: 0.0668 - acc: 0.9793 - val_loss: 0.3280 - val_acc: 0.8900\n",
            "Epoch 46/50\n",
            "75/75 [==============================] - 0s 6ms/step - loss: 0.0692 - acc: 0.9840 - val_loss: 0.3162 - val_acc: 0.9000\n",
            "Epoch 47/50\n",
            "75/75 [==============================] - 0s 6ms/step - loss: 0.0623 - acc: 0.9827 - val_loss: 0.3249 - val_acc: 0.8800\n",
            "Epoch 48/50\n",
            "75/75 [==============================] - 0s 6ms/step - loss: 0.0625 - acc: 0.9847 - val_loss: 0.3210 - val_acc: 0.8900\n",
            "Epoch 49/50\n",
            "75/75 [==============================] - 0s 6ms/step - loss: 0.0653 - acc: 0.9807 - val_loss: 0.3131 - val_acc: 0.9000\n",
            "Epoch 50/50\n",
            "75/75 [==============================] - 0s 6ms/step - loss: 0.0600 - acc: 0.9827 - val_loss: 0.3493 - val_acc: 0.8600\n"
          ]
        }
      ],
      "source": [
        "from keras import models\n",
        "from keras import layers\n",
        "from tensorflow.keras import optimizers\n",
        "model = models.Sequential()\n",
        "model.add(layers.Dense(256, activation='relu', input_dim=7 * 7 * 512))\n",
        "model.add(layers.Dropout(0.5))\n",
        "model.add(layers.Dense(1, activation='sigmoid'))\n",
        "model.compile(optimizer=optimizers.RMSprop(lr=2e-5),\n",
        "loss='binary_crossentropy',\n",
        "metrics=['acc'])\n",
        "history = model.fit(train_features, train_labels,\n",
        "epochs=50,\n",
        "batch_size=20,\n",
        "validation_data=(validation_features, validation_labels))"
      ],
      "id": "xW5Y2L0UVd2F"
    },
    {
      "cell_type": "code",
      "source": [],
      "metadata": {
        "id": "xIOJ8j1b59EJ"
      },
      "id": "xIOJ8j1b59EJ",
      "execution_count": null,
      "outputs": []
    },
    {
      "cell_type": "code",
      "execution_count": null,
      "metadata": {
        "colab": {
          "base_uri": "https://localhost:8080/",
          "height": 545
        },
        "id": "pYUnOKEhV3RT",
        "outputId": "a7e424e9-9f20-4be0-cfea-c8cdc22d9449"
      },
      "outputs": [
        {
          "output_type": "display_data",
          "data": {
            "text/plain": [
              "<Figure size 432x288 with 1 Axes>"
            ],
            "image/png": "[encoded data removed]"
          },
          "metadata": {
            "needs_background": "light"
          }
        },
        {
          "output_type": "display_data",
          "data": {
            "text/plain": [
              "<Figure size 432x288 with 1 Axes>"
            ],
            "image/png": "[encoded data removed]"
          },
          "metadata": {
            "needs_background": "light"
          }
        }
      ],
      "source": [
        "import matplotlib.pyplot as plt\n",
        "acc = history.history['acc']\n",
        "val_acc = history.history['val_acc']\n",
        "loss = history.history['loss']\n",
        "val_loss = history.history['val_loss']\n",
        "epochs = range(1, len(acc) + 1)\n",
        "plt.plot(epochs, acc, 'bo', label='Training acc')\n",
        "plt.plot(epochs, val_acc, 'b', label='Validation acc')\n",
        "plt.title('Training and validation accuracy')\n",
        "plt.legend()\n",
        "plt.figure()\n",
        "plt.plot(epochs, loss, 'bo', label='Training loss')\n",
        "plt.plot(epochs, val_loss, 'b', label='Validation loss')\n",
        "plt.title('Training and validation loss')\n",
        "plt.legend()\n",
        "plt.show()"
      ],
      "id": "pYUnOKEhV3RT"
    },
    {
      "cell_type": "code",
      "source": [],
      "metadata": {
        "id": "iMOk2NY06YlB"
      },
      "id": "iMOk2NY06YlB",
      "execution_count": null,
      "outputs": []
    },
    {
      "cell_type": "code",
      "execution_count": null,
      "metadata": {
        "id": "Y3L5rYXMYx_m"
      },
      "outputs": [],
      "source": [
        "import pickle\n",
        "filename = 'vgg191.sav'\n",
        "pickle.dump(model, open(filename, 'wb'))"
      ],
      "id": "Y3L5rYXMYx_m"
    },
    {
      "cell_type": "code",
      "source": [
        "from sklearn.metrics import accuracy_score\n",
        "a=model.predict(test_features)\n",
        "threshold = 0.5\n",
        "\n",
        "results = (a>threshold)*1\n",
        "\n",
        "acc = accuracy_score(test_labels, results[0:80])\n",
        "acc"
      ],
      "metadata": {
        "colab": {
          "base_uri": "https://localhost:8080/"
        },
        "id": "uMdykmSP7zPN",
        "outputId": "047b1125-0d23-4584-e193-f5c36ab01bde"
      },
      "id": "uMdykmSP7zPN",
      "execution_count": null,
      "outputs": [
        {
          "output_type": "execute_result",
          "data": {
            "text/plain": [
              "0.8625"
            ]
          },
          "metadata": {},
          "execution_count": 64
        }
      ]
    },
    {
      "cell_type": "code",
      "source": [
        "from sklearn.metrics import confusion_matrix\n",
        "import seaborn as sns\n",
        "matrix_confusion = confusion_matrix(test_labels, results[0:80])\n",
        "sns.heatmap(matrix_confusion, square=True, annot=True, cmap='Blues', fmt='d', cbar=False)"
      ],
      "metadata": {
        "colab": {
          "base_uri": "https://localhost:8080/",
          "height": 282
        },
        "id": "9vJrP0gj-TaE",
        "outputId": "a3aae8dd-836f-4f5c-9e61-39d76eaa3cbf"
      },
      "id": "9vJrP0gj-TaE",
      "execution_count": null,
      "outputs": [
        {
          "output_type": "execute_result",
          "data": {
            "text/plain": [
              "<matplotlib.axes._subplots.AxesSubplot at 0x7f5f40029490>"
            ]
          },
          "metadata": {},
          "execution_count": 65
        },
        {
          "output_type": "display_data",
          "data": {
            "text/plain": [
              "<Figure size 432x288 with 1 Axes>"
            ],
            "image/png": "[encoded data removed]"
          },
          "metadata": {
            "needs_background": "light"
          }
        }
      ]
    },
    {
      "cell_type": "markdown",
      "metadata": {
        "id": "TGNkCiQ4ZIqf"
      },
      "source": [
        "#VGG 2nd pproach"
      ],
      "id": "TGNkCiQ4ZIqf"
    },
    {
      "cell_type": "code",
      "execution_count": null,
      "metadata": {
        "id": "KqTDYn6YZLUT"
      },
      "outputs": [],
      "source": [
        "from keras import models\n",
        "from keras import layers\n",
        "model2 = models.Sequential()\n",
        "model2.add(conv_base)\n",
        "model2.add(layers.Flatten())\n",
        "model2.add(layers.Dense(256, activation='relu'))\n",
        "model2.add(layers.Dense(1, activation='sigmoid'))"
      ],
      "id": "KqTDYn6YZLUT"
    },
    {
      "cell_type": "code",
      "execution_count": null,
      "metadata": {
        "colab": {
          "base_uri": "https://localhost:8080/"
        },
        "id": "p0teZISvZNY_",
        "outputId": "7db0155a-6e72-4d96-9b84-f9e43ddeac54"
      },
      "outputs": [
        {
          "output_type": "stream",
          "name": "stdout",
          "text": [
            "Model: \"sequential_5\"\n",
            "_________________________________________________________________\n",
            " Layer (type)                Output Shape              Param #   \n",
            "=================================================================\n",
            " vgg16 (Functional)          (None, 7, 7, 512)         14714688  \n",
            "                                                                 \n",
            " flatten_2 (Flatten)         (None, 25088)             0         \n",
            "                                                                 \n",
            " dense_10 (Dense)            (None, 256)               6422784   \n",
            "                                                                 \n",
            " dense_11 (Dense)            (None, 1)                 257       \n",
            "                                                                 \n",
            "=================================================================\n",
            "Total params: 21,137,729\n",
            "Trainable params: 21,137,729\n",
            "Non-trainable params: 0\n",
            "_________________________________________________________________\n"
          ]
        }
      ],
      "source": [
        "model2.summary()"
      ],
      "id": "p0teZISvZNY_"
    },
    {
      "cell_type": "code",
      "execution_count": null,
      "metadata": {
        "colab": {
          "base_uri": "https://localhost:8080/"
        },
        "id": "-D1jKs_0Z00N",
        "outputId": "620b3220-a46a-458a-eff4-2850fa1ebaa1"
      },
      "outputs": [
        {
          "output_type": "stream",
          "name": "stdout",
          "text": [
            "Found 3000 images belonging to 2 classes.\n",
            "Found 200 images belonging to 2 classes.\n"
          ]
        }
      ],
      "source": [
        "from keras.preprocessing.image import ImageDataGenerator\n",
        "from keras import optimizers\n",
        "train_datagen = ImageDataGenerator(\n",
        "rescale=1./255,\n",
        "rotation_range=40,\n",
        "width_shift_range=0.2,\n",
        "height_shift_range=0.2,\n",
        "shear_range=0.2,\n",
        "zoom_range=0.2,\n",
        "horizontal_flip=True,\n",
        "fill_mode='nearest')\n",
        "test_datagen = ImageDataGenerator(rescale=1./255)\n",
        "\n",
        "\n",
        "\n",
        "\n",
        "\n",
        "\n",
        "train_generator = train_datagen.flow_from_directory(\n",
        "train_dir,\n",
        "target_size=(240, 240),\n",
        "batch_size=20,\n",
        "class_mode='binary')\n",
        "\n",
        "validation_generator = test_datagen.flow_from_directory(\n",
        "validation_dir,\n",
        "target_size=(240, 240),\n",
        "batch_size=20,\n",
        "class_mode='binary')"
      ],
      "id": "-D1jKs_0Z00N"
    },
    {
      "cell_type": "code",
      "execution_count": null,
      "metadata": {
        "colab": {
          "base_uri": "https://localhost:8080/"
        },
        "id": "ClYYho7FZPn0",
        "outputId": "dc1be69f-940b-406d-b248-212d6aa627d4"
      },
      "outputs": [
        {
          "output_type": "stream",
          "name": "stderr",
          "text": [
            "/usr/local/lib/python3.7/dist-packages/ipykernel_launcher.py:11: UserWarning: `Model.fit_generator` is deprecated and will be removed in a future version. Please use `Model.fit`, which supports generators.\n",
            "  # This is added back by InteractiveShellApp.init_path()\n"
          ]
        },
        {
          "output_type": "stream",
          "name": "stdout",
          "text": [
            "Epoch 1/50\n",
            "10/10 [==============================] - 7s 480ms/step - loss: 0.2242 - acc: 0.8950 - val_loss: 0.1474 - val_acc: 0.9600\n",
            "Epoch 2/50\n",
            "10/10 [==============================] - 5s 456ms/step - loss: 0.2059 - acc: 0.9150 - val_loss: 0.2691 - val_acc: 0.8800\n",
            "Epoch 3/50\n",
            "10/10 [==============================] - 5s 460ms/step - loss: 0.0849 - acc: 0.9850 - val_loss: 0.0768 - val_acc: 0.9400\n",
            "Epoch 4/50\n",
            "10/10 [==============================] - 5s 463ms/step - loss: 0.1230 - acc: 0.9700 - val_loss: 0.0471 - val_acc: 0.9800\n",
            "Epoch 5/50\n",
            "10/10 [==============================] - 5s 461ms/step - loss: 0.1135 - acc: 0.9650 - val_loss: 0.0996 - val_acc: 0.9600\n",
            "Epoch 6/50\n",
            "10/10 [==============================] - 5s 463ms/step - loss: 0.0635 - acc: 0.9800 - val_loss: 0.1665 - val_acc: 0.9500\n",
            "Epoch 7/50\n",
            "10/10 [==============================] - 5s 461ms/step - loss: 0.0534 - acc: 0.9850 - val_loss: 0.1664 - val_acc: 0.9700\n",
            "Epoch 8/50\n",
            "10/10 [==============================] - 5s 456ms/step - loss: 0.1195 - acc: 0.9600 - val_loss: 0.0718 - val_acc: 0.9700\n",
            "Epoch 9/50\n",
            "10/10 [==============================] - 5s 460ms/step - loss: 0.0325 - acc: 0.9900 - val_loss: 0.1238 - val_acc: 0.9400\n",
            "Epoch 10/50\n",
            "10/10 [==============================] - 5s 464ms/step - loss: 0.0453 - acc: 0.9800 - val_loss: 0.2408 - val_acc: 0.9500\n",
            "Epoch 11/50\n",
            "10/10 [==============================] - 5s 468ms/step - loss: 0.1118 - acc: 0.9550 - val_loss: 0.0602 - val_acc: 0.9800\n",
            "Epoch 12/50\n",
            "10/10 [==============================] - 5s 469ms/step - loss: 0.0834 - acc: 0.9800 - val_loss: 0.0914 - val_acc: 0.9700\n",
            "Epoch 13/50\n",
            "10/10 [==============================] - 6s 616ms/step - loss: 0.0701 - acc: 0.9700 - val_loss: 0.2006 - val_acc: 0.9600\n",
            "Epoch 14/50\n",
            "10/10 [==============================] - 5s 465ms/step - loss: 0.1069 - acc: 0.9750 - val_loss: 0.1837 - val_acc: 0.9700\n",
            "Epoch 15/50\n",
            "10/10 [==============================] - 5s 461ms/step - loss: 0.1048 - acc: 0.9550 - val_loss: 0.0913 - val_acc: 0.9900\n",
            "Epoch 16/50\n",
            "10/10 [==============================] - 5s 463ms/step - loss: 0.0429 - acc: 0.9900 - val_loss: 0.0898 - val_acc: 0.9900\n",
            "Epoch 17/50\n",
            "10/10 [==============================] - 5s 463ms/step - loss: 0.1896 - acc: 0.9300 - val_loss: 0.1654 - val_acc: 0.9700\n",
            "Epoch 18/50\n",
            "10/10 [==============================] - 5s 466ms/step - loss: 0.0316 - acc: 0.9850 - val_loss: 0.0370 - val_acc: 0.9900\n",
            "Epoch 19/50\n",
            "10/10 [==============================] - 5s 464ms/step - loss: 0.0392 - acc: 0.9850 - val_loss: 0.3395 - val_acc: 0.9000\n",
            "Epoch 20/50\n",
            "10/10 [==============================] - 5s 458ms/step - loss: 0.0692 - acc: 0.9800 - val_loss: 0.0869 - val_acc: 0.9800\n",
            "Epoch 21/50\n",
            "10/10 [==============================] - 5s 458ms/step - loss: 0.0054 - acc: 1.0000 - val_loss: 0.0070 - val_acc: 1.0000\n",
            "Epoch 22/50\n",
            "10/10 [==============================] - 5s 462ms/step - loss: 0.1062 - acc: 0.9850 - val_loss: 0.1803 - val_acc: 0.9700\n",
            "Epoch 23/50\n",
            "10/10 [==============================] - 5s 464ms/step - loss: 0.2108 - acc: 0.9350 - val_loss: 0.1460 - val_acc: 0.9800\n",
            "Epoch 24/50\n",
            "10/10 [==============================] - 5s 467ms/step - loss: 0.0593 - acc: 0.9700 - val_loss: 0.1034 - val_acc: 0.9900\n",
            "Epoch 25/50\n",
            "10/10 [==============================] - 5s 467ms/step - loss: 0.0642 - acc: 0.9850 - val_loss: 0.1341 - val_acc: 0.9600\n",
            "Epoch 26/50\n",
            "10/10 [==============================] - 5s 465ms/step - loss: 0.0576 - acc: 0.9900 - val_loss: 0.0172 - val_acc: 1.0000\n",
            "Epoch 27/50\n",
            "10/10 [==============================] - 5s 466ms/step - loss: 0.1114 - acc: 0.9700 - val_loss: 0.0581 - val_acc: 0.9700\n",
            "Epoch 28/50\n",
            "10/10 [==============================] - 5s 465ms/step - loss: 0.0706 - acc: 0.9750 - val_loss: 0.2380 - val_acc: 0.9500\n",
            "Epoch 29/50\n",
            "10/10 [==============================] - 5s 466ms/step - loss: 0.0454 - acc: 0.9900 - val_loss: 0.0777 - val_acc: 0.9700\n",
            "Epoch 30/50\n",
            "10/10 [==============================] - 5s 465ms/step - loss: 0.1364 - acc: 0.9600 - val_loss: 0.1114 - val_acc: 0.9800\n",
            "Epoch 31/50\n",
            "10/10 [==============================] - 5s 463ms/step - loss: 0.0182 - acc: 0.9950 - val_loss: 0.1554 - val_acc: 0.9800\n",
            "Epoch 32/50\n",
            "10/10 [==============================] - 5s 460ms/step - loss: 0.0787 - acc: 0.9750 - val_loss: 0.0438 - val_acc: 0.9800\n",
            "Epoch 33/50\n",
            "10/10 [==============================] - 5s 462ms/step - loss: 0.0795 - acc: 0.9800 - val_loss: 0.2165 - val_acc: 0.9300\n",
            "Epoch 34/50\n",
            "10/10 [==============================] - 5s 462ms/step - loss: 0.0423 - acc: 0.9850 - val_loss: 0.0969 - val_acc: 0.9800\n",
            "Epoch 35/50\n",
            "10/10 [==============================] - 5s 466ms/step - loss: 0.0511 - acc: 0.9900 - val_loss: 0.1043 - val_acc: 0.9700\n",
            "Epoch 36/50\n",
            "10/10 [==============================] - 5s 465ms/step - loss: 0.0901 - acc: 0.9700 - val_loss: 0.3168 - val_acc: 0.9400\n",
            "Epoch 37/50\n",
            "10/10 [==============================] - 5s 467ms/step - loss: 0.0995 - acc: 0.9600 - val_loss: 0.2080 - val_acc: 0.9700\n",
            "Epoch 38/50\n",
            "10/10 [==============================] - 5s 461ms/step - loss: 0.0680 - acc: 0.9750 - val_loss: 0.3398 - val_acc: 0.9400\n",
            "Epoch 39/50\n",
            "10/10 [==============================] - 5s 462ms/step - loss: 0.1236 - acc: 0.9550 - val_loss: 0.0527 - val_acc: 0.9900\n",
            "Epoch 40/50\n",
            "10/10 [==============================] - 5s 462ms/step - loss: 0.0682 - acc: 0.9800 - val_loss: 0.0306 - val_acc: 0.9900\n",
            "Epoch 41/50\n",
            "10/10 [==============================] - 5s 463ms/step - loss: 0.0187 - acc: 0.9950 - val_loss: 0.3033 - val_acc: 0.9500\n",
            "Epoch 42/50\n",
            "10/10 [==============================] - 5s 459ms/step - loss: 0.1290 - acc: 0.9550 - val_loss: 0.1794 - val_acc: 0.9600\n",
            "Epoch 43/50\n",
            "10/10 [==============================] - 5s 467ms/step - loss: 0.0859 - acc: 0.9750 - val_loss: 0.1052 - val_acc: 0.9700\n",
            "Epoch 44/50\n",
            "10/10 [==============================] - 5s 463ms/step - loss: 0.0149 - acc: 0.9950 - val_loss: 0.4041 - val_acc: 0.9300\n",
            "Epoch 45/50\n",
            "10/10 [==============================] - 5s 464ms/step - loss: 0.1697 - acc: 0.9500 - val_loss: 0.0960 - val_acc: 0.9600\n",
            "Epoch 46/50\n",
            "10/10 [==============================] - 5s 462ms/step - loss: 0.0367 - acc: 0.9900 - val_loss: 0.2493 - val_acc: 0.9700\n",
            "Epoch 47/50\n",
            "10/10 [==============================] - 5s 467ms/step - loss: 0.0671 - acc: 0.9850 - val_loss: 0.1232 - val_acc: 0.9600\n",
            "Epoch 48/50\n",
            "10/10 [==============================] - 5s 467ms/step - loss: 0.1172 - acc: 0.9750 - val_loss: 0.2288 - val_acc: 0.9700\n",
            "Epoch 49/50\n"
          ]
        }
      ],
      "source": [
        "from tensorflow.keras import optimizers\n",
        "model2.compile(loss='binary_crossentropy',\n",
        "optimizer=optimizers.RMSprop(lr=2e-5),\n",
        "metrics=['acc'])\n",
        "\n",
        "history = model2.fit_generator(\n",
        "train_generator,\n",
        "steps_per_epoch=10,\n",
        "epochs=50,\n",
        "validation_data=validation_generator,\n",
        "validation_steps=5)"
      ],
      "id": "ClYYho7FZPn0"
    },
    {
      "cell_type": "code",
      "execution_count": null,
      "metadata": {
        "colab": {
          "base_uri": "https://localhost:8080/",
          "height": 545
        },
        "id": "JxaZF1G1anHX",
        "outputId": "ecaa275c-38d8-4274-bcad-9572a95834d6"
      },
      "outputs": [
        {
          "output_type": "display_data",
          "data": {
            "text/plain": [
              "<Figure size 432x288 with 1 Axes>"
            ],
            "image/png": "[encoded data removed]"
          },
          "metadata": {
            "needs_background": "light"
          }
        },
        {
          "output_type": "display_data",
          "data": {
            "text/plain": [
              "<Figure size 432x288 with 1 Axes>"
            ],
            "image/png": "[encoded data removed]"
          },
          "metadata": {
            "needs_background": "light"
          }
        }
      ],
      "source": [
        "import matplotlib.pyplot as plt\n",
        "acc = history.history['acc']\n",
        "val_acc = history.history['val_acc']\n",
        "loss = history.history['loss']\n",
        "val_loss = history.history['val_loss']\n",
        "epochs = range(1, len(acc) + 1)\n",
        "plt.plot(epochs, acc, 'bo', label='Training acc')\n",
        "plt.plot(epochs, val_acc, 'b', label='Validation acc')\n",
        "plt.title('Training and validation accuracy')\n",
        "plt.legend()\n",
        "plt.figure()\n",
        "plt.plot(epochs, loss, 'bo', label='Training loss')\n",
        "plt.plot(epochs, val_loss, 'b', label='Validation loss')\n",
        "plt.title('Training and validation loss')\n",
        "plt.legend()\n",
        "plt.show()"
      ],
      "id": "JxaZF1G1anHX"
    },
    {
      "cell_type": "code",
      "source": [
        "test_generator = test_datagen.flow_from_directory(\n",
        "test_dir,\n",
        "target_size=(240, 240),\n",
        "batch_size=batch_size)\n"
      ],
      "metadata": {
        "colab": {
          "base_uri": "https://localhost:8080/"
        },
        "id": "ArO8cKUqGDNb",
        "outputId": "4ffcff83-9a1e-43c6-efd3-4cae859b659c"
      },
      "id": "ArO8cKUqGDNb",
      "execution_count": null,
      "outputs": [
        {
          "output_type": "stream",
          "name": "stdout",
          "text": [
            "Found 480 images belonging to 2 classes.\n"
          ]
        }
      ]
    },
    {
      "cell_type": "code",
      "execution_count": null,
      "metadata": {
        "id": "z8tcW-l4ZqOA",
        "colab": {
          "base_uri": "https://localhost:8080/"
        },
        "outputId": "63047dc5-b974-4dec-efbc-bbc5062a7f1f"
      },
      "outputs": [
        {
          "output_type": "stream",
          "name": "stderr",
          "text": [
            "/usr/local/lib/python3.7/dist-packages/ipykernel_launcher.py:1: UserWarning: `Model.predict_generator` is deprecated and will be removed in a future version. Please use `Model.predict`, which supports generators.\n",
            "  \"\"\"Entry point for launching an IPython kernel.\n"
          ]
        }
      ],
      "source": [
        "a=model2.predict_generator(test_generator)\n",
        "\n",
        "\n",
        "threshold = 0.5\n",
        "\n",
        "results = (a>threshold)*1\n"
      ],
      "id": "z8tcW-l4ZqOA"
    },
    {
      "cell_type": "code",
      "execution_count": null,
      "metadata": {
        "id": "Ixt-P0sQs0Yn",
        "colab": {
          "base_uri": "https://localhost:8080/",
          "height": 282
        },
        "outputId": "50f5fdcf-dbfe-467c-e752-d1a02ad15d0a"
      },
      "outputs": [
        {
          "output_type": "execute_result",
          "data": {
            "text/plain": [
              "<matplotlib.axes._subplots.AxesSubplot at 0x7f5ebb043fd0>"
            ]
          },
          "metadata": {},
          "execution_count": 82
        },
        {
          "output_type": "display_data",
          "data": {
            "text/plain": [
              "<Figure size 432x288 with 1 Axes>"
            ],
            "image/png": "[encoded data removed]"
          },
          "metadata": {
            "needs_background": "light"
          }
        }
      ],
      "source": [
        "from sklearn.metrics import confusion_matrix\n",
        "import seaborn as sns\n",
        "matrix_confusion = confusion_matrix(test_labels, results[0:80])\n",
        "sns.heatmap(matrix_confusion, square=True, annot=True, cmap='Blues', fmt='d', cbar=False)"
      ],
      "id": "Ixt-P0sQs0Yn"
    },
    {
      "cell_type": "code",
      "source": [
        "from sklearn.metrics import accuracy_score\n",
        "\n",
        "\n",
        "acc = accuracy_score(test_labels, results[0:80])\n",
        "acc"
      ],
      "metadata": {
        "colab": {
          "base_uri": "https://localhost:8080/"
        },
        "id": "TGs8I2b3Ix4e",
        "outputId": "59c04209-9acc-4a2c-84e4-2f2bfdd7956c"
      },
      "id": "TGs8I2b3Ix4e",
      "execution_count": null,
      "outputs": [
        {
          "output_type": "execute_result",
          "data": {
            "text/plain": [
              "0.825"
            ]
          },
          "metadata": {},
          "execution_count": 86
        }
      ]
    },
    {
      "cell_type": "markdown",
      "metadata": {
        "id": "Q1vp_b7Ss3F_"
      },
      "source": [
        "#VGG19"
      ],
      "id": "Q1vp_b7Ss3F_"
    },
    {
      "cell_type": "code",
      "execution_count": null,
      "metadata": {
        "colab": {
          "base_uri": "https://localhost:8080/"
        },
        "id": "CCAL5ld2s8Gc",
        "outputId": "168ea0d3-dd0f-4dc6-8b9c-962ac098cf53"
      },
      "outputs": [
        {
          "output_type": "stream",
          "name": "stdout",
          "text": [
            "Downloading data from https://storage.googleapis.com/tensorflow/keras-applications/vgg19/vgg19_weights_tf_dim_ordering_tf_kernels_notop.h5\n",
            "80142336/80134624 [==============================] - 0s 0us/step\n",
            "80150528/80134624 [==============================] - 0s 0us/step\n"
          ]
        }
      ],
      "source": [
        "from tensorflow.keras.applications import VGG19\n",
        "conv_base = VGG19(weights='imagenet',include_top=False,input_shape=(240, 240, 3))"
      ],
      "id": "CCAL5ld2s8Gc"
    },
    {
      "cell_type": "code",
      "execution_count": null,
      "metadata": {
        "id": "RDZbTjg1s5wi"
      },
      "outputs": [],
      "source": [
        "from tensorflow.keras.preprocessing.image import ImageDataGenerator\n",
        "\n",
        "datagen = ImageDataGenerator(rescale=1./255)\n",
        "batch_size = 20\n",
        "def extract_features(directory, sample_count):\n",
        "    \n",
        "    features = np.zeros(shape=(sample_count, 7, 7, 512))\n",
        "    labels = np.zeros(shape=(sample_count))\n",
        "    generator = datagen.flow_from_directory(\n",
        "    directory,\n",
        "    target_size=(240, 240),\n",
        "    batch_size=batch_size,\n",
        "    class_mode='binary')\n",
        "    i=0\n",
        "\n",
        " \n",
        "    for inputs_batch, labels_batch in generator:\n",
        "        features_batch = conv_base.predict(inputs_batch)\n",
        "        features[i * batch_size : (i + 1) * batch_size] = features_batch\n",
        "        labels[i * batch_size : (i + 1) * batch_size] = labels_batch\n",
        "        i += 1\n",
        "        if i * batch_size >= sample_count:\n",
        "            break\n",
        "    return features, labels"
      ],
      "id": "RDZbTjg1s5wi"
    },
    {
      "cell_type": "code",
      "execution_count": null,
      "metadata": {
        "colab": {
          "base_uri": "https://localhost:8080/"
        },
        "id": "qQjX-Nq_tbhK",
        "outputId": "49b146b1-4461-4634-abb6-bdde484d2088"
      },
      "outputs": [
        {
          "output_type": "stream",
          "name": "stdout",
          "text": [
            "Found 3000 images belonging to 2 classes.\n",
            "Found 200 images belonging to 2 classes.\n",
            "Found 480 images belonging to 2 classes.\n",
            "Epoch 1/50\n"
          ]
        },
        {
          "output_type": "stream",
          "name": "stderr",
          "text": [
            "/usr/local/lib/python3.7/dist-packages/keras/optimizer_v2/rmsprop.py:130: UserWarning: The `lr` argument is deprecated, use `learning_rate` instead.\n",
            "  super(RMSprop, self).__init__(name, **kwargs)\n"
          ]
        },
        {
          "output_type": "stream",
          "name": "stdout",
          "text": [
            "75/75 [==============================] - 1s 7ms/step - loss: 0.5287 - acc: 0.7420 - val_loss: 0.3760 - val_acc: 0.8800\n",
            "Epoch 2/50\n",
            "75/75 [==============================] - 0s 6ms/step - loss: 0.4144 - acc: 0.8200 - val_loss: 0.3352 - val_acc: 0.8900\n",
            "Epoch 3/50\n",
            "75/75 [==============================] - 0s 6ms/step - loss: 0.3853 - acc: 0.8287 - val_loss: 0.3176 - val_acc: 0.8900\n",
            "Epoch 4/50\n",
            "75/75 [==============================] - 0s 6ms/step - loss: 0.3528 - acc: 0.8520 - val_loss: 0.3645 - val_acc: 0.8300\n",
            "Epoch 5/50\n",
            "75/75 [==============================] - 0s 6ms/step - loss: 0.3275 - acc: 0.8587 - val_loss: 0.3286 - val_acc: 0.8300\n",
            "Epoch 6/50\n",
            "75/75 [==============================] - 0s 6ms/step - loss: 0.3154 - acc: 0.8647 - val_loss: 0.3116 - val_acc: 0.8500\n",
            "Epoch 7/50\n",
            "75/75 [==============================] - 0s 6ms/step - loss: 0.2816 - acc: 0.8800 - val_loss: 0.3395 - val_acc: 0.8500\n",
            "Epoch 8/50\n",
            "75/75 [==============================] - 0s 6ms/step - loss: 0.2813 - acc: 0.8847 - val_loss: 0.2755 - val_acc: 0.8900\n",
            "Epoch 9/50\n",
            "75/75 [==============================] - 0s 6ms/step - loss: 0.2701 - acc: 0.8933 - val_loss: 0.2655 - val_acc: 0.9100\n",
            "Epoch 10/50\n",
            "75/75 [==============================] - 0s 6ms/step - loss: 0.2606 - acc: 0.8947 - val_loss: 0.3113 - val_acc: 0.8700\n",
            "Epoch 11/50\n",
            "75/75 [==============================] - 0s 6ms/step - loss: 0.2463 - acc: 0.8987 - val_loss: 0.2931 - val_acc: 0.8800\n",
            "Epoch 12/50\n",
            "75/75 [==============================] - 0s 5ms/step - loss: 0.2391 - acc: 0.9013 - val_loss: 0.2685 - val_acc: 0.8900\n",
            "Epoch 13/50\n",
            "75/75 [==============================] - 0s 6ms/step - loss: 0.2227 - acc: 0.9140 - val_loss: 0.2636 - val_acc: 0.8700\n",
            "Epoch 14/50\n",
            "75/75 [==============================] - 0s 6ms/step - loss: 0.2186 - acc: 0.9133 - val_loss: 0.2571 - val_acc: 0.8700\n",
            "Epoch 15/50\n",
            "75/75 [==============================] - 0s 6ms/step - loss: 0.2178 - acc: 0.9053 - val_loss: 0.2621 - val_acc: 0.8800\n",
            "Epoch 16/50\n",
            "75/75 [==============================] - 0s 6ms/step - loss: 0.2077 - acc: 0.9220 - val_loss: 0.2482 - val_acc: 0.8900\n",
            "Epoch 17/50\n",
            "75/75 [==============================] - 0s 6ms/step - loss: 0.2070 - acc: 0.9173 - val_loss: 0.2450 - val_acc: 0.8800\n",
            "Epoch 18/50\n",
            "75/75 [==============================] - 0s 6ms/step - loss: 0.1957 - acc: 0.9200 - val_loss: 0.2429 - val_acc: 0.9100\n",
            "Epoch 19/50\n",
            "75/75 [==============================] - 0s 6ms/step - loss: 0.1944 - acc: 0.9260 - val_loss: 0.2347 - val_acc: 0.9000\n",
            "Epoch 20/50\n",
            "75/75 [==============================] - 0s 6ms/step - loss: 0.1838 - acc: 0.9320 - val_loss: 0.2475 - val_acc: 0.9000\n",
            "Epoch 21/50\n",
            "75/75 [==============================] - 0s 6ms/step - loss: 0.1777 - acc: 0.9353 - val_loss: 0.2361 - val_acc: 0.9000\n",
            "Epoch 22/50\n",
            "75/75 [==============================] - 0s 6ms/step - loss: 0.1760 - acc: 0.9333 - val_loss: 0.2571 - val_acc: 0.8900\n",
            "Epoch 23/50\n",
            "75/75 [==============================] - 0s 6ms/step - loss: 0.1650 - acc: 0.9347 - val_loss: 0.2283 - val_acc: 0.9100\n",
            "Epoch 24/50\n",
            "75/75 [==============================] - 0s 6ms/step - loss: 0.1734 - acc: 0.9327 - val_loss: 0.2382 - val_acc: 0.9100\n",
            "Epoch 25/50\n",
            "75/75 [==============================] - 0s 6ms/step - loss: 0.1562 - acc: 0.9467 - val_loss: 0.2212 - val_acc: 0.9100\n",
            "Epoch 26/50\n",
            "75/75 [==============================] - 0s 6ms/step - loss: 0.1657 - acc: 0.9367 - val_loss: 0.2203 - val_acc: 0.9000\n",
            "Epoch 27/50\n",
            "75/75 [==============================] - 0s 6ms/step - loss: 0.1533 - acc: 0.9440 - val_loss: 0.2233 - val_acc: 0.9000\n",
            "Epoch 28/50\n",
            "75/75 [==============================] - 0s 6ms/step - loss: 0.1489 - acc: 0.9473 - val_loss: 0.2539 - val_acc: 0.8900\n",
            "Epoch 29/50\n",
            "75/75 [==============================] - 0s 5ms/step - loss: 0.1461 - acc: 0.9460 - val_loss: 0.2196 - val_acc: 0.9100\n",
            "Epoch 30/50\n",
            "75/75 [==============================] - 0s 6ms/step - loss: 0.1438 - acc: 0.9480 - val_loss: 0.2218 - val_acc: 0.9200\n",
            "Epoch 31/50\n",
            "75/75 [==============================] - 0s 6ms/step - loss: 0.1434 - acc: 0.9473 - val_loss: 0.2170 - val_acc: 0.9100\n",
            "Epoch 32/50\n",
            "75/75 [==============================] - 0s 6ms/step - loss: 0.1379 - acc: 0.9547 - val_loss: 0.2254 - val_acc: 0.9200\n",
            "Epoch 33/50\n",
            "75/75 [==============================] - 0s 6ms/step - loss: 0.1367 - acc: 0.9467 - val_loss: 0.2194 - val_acc: 0.9300\n",
            "Epoch 34/50\n",
            "75/75 [==============================] - 0s 6ms/step - loss: 0.1322 - acc: 0.9580 - val_loss: 0.2210 - val_acc: 0.9200\n",
            "Epoch 35/50\n",
            "75/75 [==============================] - 0s 6ms/step - loss: 0.1253 - acc: 0.9580 - val_loss: 0.2196 - val_acc: 0.9200\n",
            "Epoch 36/50\n",
            "75/75 [==============================] - 0s 6ms/step - loss: 0.1270 - acc: 0.9527 - val_loss: 0.2307 - val_acc: 0.8900\n",
            "Epoch 37/50\n",
            "75/75 [==============================] - 0s 6ms/step - loss: 0.1269 - acc: 0.9520 - val_loss: 0.2085 - val_acc: 0.9400\n",
            "Epoch 38/50\n",
            "75/75 [==============================] - 0s 6ms/step - loss: 0.1160 - acc: 0.9620 - val_loss: 0.2240 - val_acc: 0.9100\n",
            "Epoch 39/50\n",
            "75/75 [==============================] - 0s 6ms/step - loss: 0.1161 - acc: 0.9567 - val_loss: 0.2408 - val_acc: 0.9000\n",
            "Epoch 40/50\n",
            "75/75 [==============================] - 0s 6ms/step - loss: 0.1138 - acc: 0.9660 - val_loss: 0.2170 - val_acc: 0.9200\n",
            "Epoch 41/50\n",
            "75/75 [==============================] - 0s 6ms/step - loss: 0.1095 - acc: 0.9627 - val_loss: 0.2284 - val_acc: 0.9000\n",
            "Epoch 42/50\n",
            "75/75 [==============================] - 0s 6ms/step - loss: 0.1068 - acc: 0.9660 - val_loss: 0.2157 - val_acc: 0.9100\n",
            "Epoch 43/50\n",
            "75/75 [==============================] - 0s 6ms/step - loss: 0.1054 - acc: 0.9600 - val_loss: 0.2232 - val_acc: 0.9200\n",
            "Epoch 44/50\n",
            "75/75 [==============================] - 0s 6ms/step - loss: 0.1012 - acc: 0.9680 - val_loss: 0.2186 - val_acc: 0.9200\n",
            "Epoch 45/50\n",
            "75/75 [==============================] - 0s 6ms/step - loss: 0.1030 - acc: 0.9667 - val_loss: 0.2489 - val_acc: 0.9000\n",
            "Epoch 46/50\n",
            "75/75 [==============================] - 0s 6ms/step - loss: 0.1063 - acc: 0.9613 - val_loss: 0.2149 - val_acc: 0.9100\n",
            "Epoch 47/50\n",
            "75/75 [==============================] - 0s 6ms/step - loss: 0.1013 - acc: 0.9660 - val_loss: 0.2268 - val_acc: 0.9200\n",
            "Epoch 48/50\n",
            "75/75 [==============================] - 0s 6ms/step - loss: 0.1013 - acc: 0.9627 - val_loss: 0.2261 - val_acc: 0.9200\n",
            "Epoch 49/50\n",
            "75/75 [==============================] - 0s 6ms/step - loss: 0.0927 - acc: 0.9700 - val_loss: 0.2240 - val_acc: 0.9200\n",
            "Epoch 50/50\n",
            "75/75 [==============================] - 0s 6ms/step - loss: 0.0898 - acc: 0.9700 - val_loss: 0.2169 - val_acc: 0.9200\n"
          ]
        }
      ],
      "source": [
        "import numpy as np\n",
        "train_dir=\"/content/drive/MyDrive/lo/train\"\n",
        "validation_dir=\"/content/drive/MyDrive/lo/validation\"\n",
        "test_dir=\"/content/drive/MyDrive/lo/test\"\n",
        "\n",
        "\n",
        "train_features, train_labels = extract_features(train_dir, 1500)\n",
        "validation_features, validation_labels = extract_features(validation_dir, 100)\n",
        "test_features, test_labels = extract_features(test_dir,80)\n",
        "train_features=np.reshape(train_features, (1500, 7*7* 512))\n",
        "validation_features=np.reshape(validation_features, (100, 7*7* 512))\n",
        "test_features=np.reshape(test_features, (80, 7*7* 512))\n",
        "from keras import models\n",
        "from keras import layers\n",
        "from tensorflow.keras import optimizers\n",
        "model = models.Sequential()\n",
        "model.add(layers.Dense(256, activation='relu', input_dim=7 * 7 * 512))\n",
        "model.add(layers.Dropout(0.5))\n",
        "model.add(layers.Dense(1, activation='sigmoid'))\n",
        "model.compile(optimizer=optimizers.RMSprop(lr=2e-5),\n",
        "loss='binary_crossentropy',\n",
        "metrics=['acc'])\n",
        "history = model.fit(train_features, train_labels,\n",
        "epochs=50,\n",
        "batch_size=20,\n",
        "validation_data=(validation_features, validation_labels))"
      ],
      "id": "qQjX-Nq_tbhK"
    },
    {
      "cell_type": "code",
      "execution_count": null,
      "metadata": {
        "id": "HkSjmXXcxuVU"
      },
      "outputs": [],
      "source": [
        "a=model.predict(test_features)\n"
      ],
      "id": "HkSjmXXcxuVU"
    },
    {
      "cell_type": "code",
      "execution_count": null,
      "metadata": {
        "id": "Y_Q-OBPz0oUw"
      },
      "outputs": [],
      "source": [
        "threshold = 0.5\n",
        "\n",
        "results = (a>threshold)*1\n"
      ],
      "id": "Y_Q-OBPz0oUw"
    },
    {
      "cell_type": "code",
      "execution_count": null,
      "metadata": {
        "id": "iuwQ_BpX-9LE",
        "colab": {
          "base_uri": "https://localhost:8080/"
        },
        "outputId": "226ab5fa-54ee-4156-cb32-67c361e0debb"
      },
      "outputs": [
        {
          "output_type": "execute_result",
          "data": {
            "text/plain": [
              "0.9"
            ]
          },
          "metadata": {},
          "execution_count": 93
        }
      ],
      "source": [
        "import sklearn\n",
        "acc = sklearn.metrics.accuracy_score(test_labels, results[0:80])\n",
        "acc"
      ],
      "id": "iuwQ_BpX-9LE"
    },
    {
      "cell_type": "code",
      "execution_count": null,
      "metadata": {
        "colab": {
          "base_uri": "https://localhost:8080/",
          "height": 545
        },
        "id": "oJ6wCCpVyvnn",
        "outputId": "0e57ea0b-671c-4bf1-dacd-0692a719f768"
      },
      "outputs": [
        {
          "output_type": "display_data",
          "data": {
            "text/plain": [
              "<Figure size 432x288 with 1 Axes>"
            ],
            "image/png": "[encoded data removed]"
          },
          "metadata": {
            "needs_background": "light"
          }
        },
        {
          "output_type": "display_data",
          "data": {
            "text/plain": [
              "<Figure size 432x288 with 1 Axes>"
            ],
            "image/png": "[encoded data removed]"
          },
          "metadata": {
            "needs_background": "light"
          }
        }
      ],
      "source": [
        "import matplotlib.pyplot as plt\n",
        "acc = history.history['acc']\n",
        "val_acc = history.history['val_acc']\n",
        "loss = history.history['loss']\n",
        "val_loss = history.history['val_loss']\n",
        "epochs = range(1, len(acc) + 1)\n",
        "plt.plot(epochs, acc, 'bo', label='Training acc')\n",
        "plt.plot(epochs, val_acc, 'b', label='Validation acc')\n",
        "plt.title('Training and validation accuracy')\n",
        "plt.legend()\n",
        "plt.figure()\n",
        "plt.plot(epochs, loss, 'bo', label='Training loss')\n",
        "plt.plot(epochs, val_loss, 'b', label='Validation loss')\n",
        "plt.title('Training and validation loss')\n",
        "plt.legend()\n",
        "plt.show()"
      ],
      "id": "oJ6wCCpVyvnn"
    },
    {
      "cell_type": "code",
      "execution_count": null,
      "metadata": {
        "id": "KqoleKPmwmn0",
        "colab": {
          "base_uri": "https://localhost:8080/",
          "height": 282
        },
        "outputId": "3c1dda9e-0a37-4b47-c8bf-dc692cb224ba"
      },
      "outputs": [
        {
          "output_type": "execute_result",
          "data": {
            "text/plain": [
              "<matplotlib.axes._subplots.AxesSubplot at 0x7f5eaf2d0350>"
            ]
          },
          "metadata": {},
          "execution_count": 94
        },
        {
          "output_type": "display_data",
          "data": {
            "text/plain": [
              "<Figure size 432x288 with 1 Axes>"
            ],
            "image/png": "[encoded data removed]"
          },
          "metadata": {
            "needs_background": "light"
          }
        }
      ],
      "source": [
        "from sklearn.metrics import confusion_matrix\n",
        "import seaborn as sns\n",
        "matrix_confusion = confusion_matrix(test_labels, results[0:80])\n",
        "sns.heatmap(matrix_confusion, square=True, annot=True, cmap='Blues', fmt='d', cbar=False)"
      ],
      "id": "KqoleKPmwmn0"
    },
    {
      "cell_type": "code",
      "execution_count": null,
      "metadata": {
        "id": "s-jjMc0H1-7K"
      },
      "outputs": [],
      "source": [
        "import pickle\n",
        "filename = 'vgg19.sav'\n",
        "pickle.dump(model, open(filename, 'wb'))"
      ],
      "id": "s-jjMc0H1-7K"
    },
    {
      "cell_type": "code",
      "execution_count": null,
      "metadata": {
        "id": "P3EpD_ga2991"
      },
      "outputs": [],
      "source": [],
      "id": "P3EpD_ga2991"
    },
    {
      "cell_type": "markdown",
      "metadata": {
        "id": "MlIzXGVt2-RQ"
      },
      "source": [
        "#vgg19 approch 2"
      ],
      "id": "MlIzXGVt2-RQ"
    },
    {
      "cell_type": "code",
      "execution_count": null,
      "metadata": {
        "id": "T-pwz40S4zUx"
      },
      "outputs": [],
      "source": [
        "from tensorflow.keras.applications import VGG19\n",
        "conv_base = VGG19(weights='imagenet',include_top=False,input_shape=(240, 240, 3))"
      ],
      "id": "T-pwz40S4zUx"
    },
    {
      "cell_type": "code",
      "execution_count": null,
      "metadata": {
        "id": "hVzZ_Ami2lS1"
      },
      "outputs": [],
      "source": [
        "from keras import models\n",
        "from keras import layers\n",
        "model2 = models.Sequential()\n",
        "model2.add(conv_base)\n",
        "model2.add(layers.Flatten())\n",
        "model2.add(layers.Dense(256, activation='relu'))\n",
        "model2.add(layers.Dense(1, activation='sigmoid'))"
      ],
      "id": "hVzZ_Ami2lS1"
    },
    {
      "cell_type": "code",
      "execution_count": null,
      "metadata": {
        "colab": {
          "base_uri": "https://localhost:8080/"
        },
        "id": "W4j2Vk7Q3pjr",
        "outputId": "c702deef-8d51-44f0-dbf7-9b2cde6d4657"
      },
      "outputs": [
        {
          "output_type": "stream",
          "name": "stdout",
          "text": [
            "Found 3000 images belonging to 2 classes.\n",
            "Found 200 images belonging to 2 classes.\n"
          ]
        }
      ],
      "source": [
        "import numpy as np\n",
        "train_dir=\"/content/drive/MyDrive/lo/train\"\n",
        "validation_dir=\"/content/drive/MyDrive/lo/validation\"\n",
        "test_dir=\"/content/drive/MyDrive/lo/test\"\n",
        "\n",
        "\n",
        "from keras.preprocessing.image import ImageDataGenerator\n",
        "from keras import optimizers\n",
        "train_datagen = ImageDataGenerator(\n",
        "rescale=1./255,\n",
        "rotation_range=40,\n",
        "width_shift_range=0.2,\n",
        "height_shift_range=0.2,\n",
        "shear_range=0.2,\n",
        "zoom_range=0.2,\n",
        "horizontal_flip=True,\n",
        "fill_mode='nearest')\n",
        "test_datagen = ImageDataGenerator(rescale=1./255)\n",
        "\n",
        "\n",
        "\n",
        "\n",
        "\n",
        "\n",
        "train_generator = train_datagen.flow_from_directory(\n",
        "train_dir,\n",
        "target_size=(240, 240),\n",
        "batch_size=20,\n",
        "class_mode='binary')\n",
        "\n",
        "validation_generator = test_datagen.flow_from_directory(\n",
        "validation_dir,\n",
        "target_size=(240, 240),\n",
        "batch_size=20,\n",
        "class_mode='binary')"
      ],
      "id": "W4j2Vk7Q3pjr"
    },
    {
      "cell_type": "code",
      "execution_count": null,
      "metadata": {
        "colab": {
          "base_uri": "https://localhost:8080/"
        },
        "id": "2Xxi6Kgw33B0",
        "outputId": "d9894462-7c5f-4b3b-aab9-cd1ca7ce0b01"
      },
      "outputs": [
        {
          "metadata": {
            "tags": null
          },
          "name": "stderr",
          "output_type": "stream",
          "text": [
            "/usr/local/lib/python3.7/dist-packages/keras/optimizer_v2/rmsprop.py:130: UserWarning: The `lr` argument is deprecated, use `learning_rate` instead.\n",
            "  super(RMSprop, self).__init__(name, **kwargs)\n",
            "/usr/local/lib/python3.7/dist-packages/ipykernel_launcher.py:11: UserWarning: `Model.fit_generator` is deprecated and will be removed in a future version. Please use `Model.fit`, which supports generators.\n",
            "  # This is added back by InteractiveShellApp.init_path()\n"
          ]
        },
        {
          "output_type": "stream",
          "name": "stdout",
          "text": [
            "Epoch 1/50\n",
            "10/10 [==============================] - 8s 580ms/step - loss: 0.6636 - acc: 0.6550 - val_loss: 0.7176 - val_acc: 0.5600\n",
            "Epoch 2/50\n",
            "10/10 [==============================] - 6s 558ms/step - loss: 0.5040 - acc: 0.7400 - val_loss: 0.5272 - val_acc: 0.7700\n",
            "Epoch 3/50\n",
            "10/10 [==============================] - 6s 565ms/step - loss: 0.5381 - acc: 0.7400 - val_loss: 0.4586 - val_acc: 0.8000\n",
            "Epoch 4/50\n",
            "10/10 [==============================] - 7s 674ms/step - loss: 0.4510 - acc: 0.7800 - val_loss: 0.3828 - val_acc: 0.8600\n",
            "Epoch 5/50\n",
            "10/10 [==============================] - 6s 552ms/step - loss: 0.4326 - acc: 0.8300 - val_loss: 0.4050 - val_acc: 0.8200\n",
            "Epoch 6/50\n",
            "10/10 [==============================] - 7s 653ms/step - loss: 0.4157 - acc: 0.8200 - val_loss: 0.4109 - val_acc: 0.8300\n",
            "Epoch 7/50\n",
            "10/10 [==============================] - 6s 550ms/step - loss: 0.4502 - acc: 0.8050 - val_loss: 0.3423 - val_acc: 0.8800\n",
            "Epoch 8/50\n",
            "10/10 [==============================] - 6s 551ms/step - loss: 0.4325 - acc: 0.8200 - val_loss: 0.2802 - val_acc: 0.9000\n",
            "Epoch 9/50\n",
            "10/10 [==============================] - 6s 555ms/step - loss: 0.3202 - acc: 0.8650 - val_loss: 0.3865 - val_acc: 0.8100\n",
            "Epoch 10/50\n",
            "10/10 [==============================] - 6s 558ms/step - loss: 0.4049 - acc: 0.8400 - val_loss: 0.3895 - val_acc: 0.8200\n",
            "Epoch 11/50\n",
            "10/10 [==============================] - 6s 553ms/step - loss: 0.3089 - acc: 0.8700 - val_loss: 0.3357 - val_acc: 0.8700\n",
            "Epoch 12/50\n",
            "10/10 [==============================] - 6s 548ms/step - loss: 0.4212 - acc: 0.8200 - val_loss: 0.2502 - val_acc: 0.9100\n",
            "Epoch 13/50\n",
            "10/10 [==============================] - 6s 551ms/step - loss: 0.2764 - acc: 0.8950 - val_loss: 0.3258 - val_acc: 0.8700\n",
            "Epoch 14/50\n",
            "10/10 [==============================] - 6s 553ms/step - loss: 0.3024 - acc: 0.8750 - val_loss: 0.6239 - val_acc: 0.7600\n",
            "Epoch 15/50\n",
            "10/10 [==============================] - 6s 559ms/step - loss: 0.4022 - acc: 0.8450 - val_loss: 0.3163 - val_acc: 0.8800\n",
            "Epoch 16/50\n",
            "10/10 [==============================] - 6s 559ms/step - loss: 0.1957 - acc: 0.9200 - val_loss: 0.4426 - val_acc: 0.8000\n",
            "Epoch 17/50\n",
            "10/10 [==============================] - 6s 555ms/step - loss: 0.4480 - acc: 0.8200 - val_loss: 0.2227 - val_acc: 0.9300\n",
            "Epoch 18/50\n",
            "10/10 [==============================] - 6s 550ms/step - loss: 0.2402 - acc: 0.9000 - val_loss: 0.1442 - val_acc: 0.9400\n",
            "Epoch 19/50\n",
            "10/10 [==============================] - 6s 552ms/step - loss: 0.2049 - acc: 0.9200 - val_loss: 0.2618 - val_acc: 0.8700\n",
            "Epoch 20/50\n",
            "10/10 [==============================] - 6s 553ms/step - loss: 0.1234 - acc: 0.9450 - val_loss: 0.3731 - val_acc: 0.8700\n",
            "Epoch 21/50\n",
            "10/10 [==============================] - 6s 552ms/step - loss: 0.1803 - acc: 0.9350 - val_loss: 0.1498 - val_acc: 0.9500\n",
            "Epoch 22/50\n",
            "10/10 [==============================] - 6s 552ms/step - loss: 0.1693 - acc: 0.9600 - val_loss: 0.2306 - val_acc: 0.9200\n",
            "Epoch 23/50\n",
            "10/10 [==============================] - 6s 554ms/step - loss: 0.1799 - acc: 0.9300 - val_loss: 0.2837 - val_acc: 0.9000\n",
            "Epoch 24/50\n",
            "10/10 [==============================] - 6s 550ms/step - loss: 0.1186 - acc: 0.9550 - val_loss: 0.1620 - val_acc: 0.9400\n",
            "Epoch 25/50\n",
            "10/10 [==============================] - 6s 554ms/step - loss: 0.1801 - acc: 0.9500 - val_loss: 0.1717 - val_acc: 0.9200\n",
            "Epoch 26/50\n",
            "10/10 [==============================] - 6s 550ms/step - loss: 0.1941 - acc: 0.9400 - val_loss: 0.0743 - val_acc: 0.9800\n",
            "Epoch 27/50\n",
            "10/10 [==============================] - 6s 553ms/step - loss: 0.1156 - acc: 0.9600 - val_loss: 0.1460 - val_acc: 0.9400\n",
            "Epoch 28/50\n",
            "10/10 [==============================] - 6s 554ms/step - loss: 0.1898 - acc: 0.9350 - val_loss: 0.2534 - val_acc: 0.9200\n",
            "Epoch 29/50\n",
            "10/10 [==============================] - 6s 555ms/step - loss: 0.1216 - acc: 0.9600 - val_loss: 0.1662 - val_acc: 0.9300\n",
            "Epoch 30/50\n",
            "10/10 [==============================] - 6s 554ms/step - loss: 0.2552 - acc: 0.9050 - val_loss: 0.1339 - val_acc: 0.9500\n",
            "Epoch 31/50\n",
            "10/10 [==============================] - 6s 559ms/step - loss: 0.1547 - acc: 0.9500 - val_loss: 0.1323 - val_acc: 0.9700\n",
            "Epoch 32/50\n",
            "10/10 [==============================] - 6s 560ms/step - loss: 0.1739 - acc: 0.9550 - val_loss: 0.2740 - val_acc: 0.9000\n",
            "Epoch 33/50\n",
            "10/10 [==============================] - 6s 559ms/step - loss: 0.0974 - acc: 0.9650 - val_loss: 0.1556 - val_acc: 0.9400\n",
            "Epoch 34/50\n",
            "10/10 [==============================] - 6s 554ms/step - loss: 0.0755 - acc: 0.9750 - val_loss: 0.2136 - val_acc: 0.9300\n",
            "Epoch 35/50\n",
            "10/10 [==============================] - 6s 553ms/step - loss: 0.1681 - acc: 0.9450 - val_loss: 0.1380 - val_acc: 0.9400\n",
            "Epoch 36/50\n",
            "10/10 [==============================] - 6s 552ms/step - loss: 0.1947 - acc: 0.9550 - val_loss: 0.0752 - val_acc: 0.9600\n",
            "Epoch 37/50\n",
            "10/10 [==============================] - 6s 552ms/step - loss: 0.0984 - acc: 0.9600 - val_loss: 0.1835 - val_acc: 0.9600\n",
            "Epoch 38/50\n",
            "10/10 [==============================] - 6s 548ms/step - loss: 0.1413 - acc: 0.9450 - val_loss: 0.1180 - val_acc: 0.9500\n",
            "Epoch 39/50\n",
            "10/10 [==============================] - 6s 548ms/step - loss: 0.1459 - acc: 0.9450 - val_loss: 0.1780 - val_acc: 0.9500\n",
            "Epoch 40/50\n",
            "10/10 [==============================] - 6s 550ms/step - loss: 0.1475 - acc: 0.9500 - val_loss: 0.1288 - val_acc: 0.9500\n",
            "Epoch 41/50\n",
            "10/10 [==============================] - 6s 554ms/step - loss: 0.0862 - acc: 0.9700 - val_loss: 0.2011 - val_acc: 0.9100\n",
            "Epoch 42/50\n",
            "10/10 [==============================] - 6s 560ms/step - loss: 0.0862 - acc: 0.9750 - val_loss: 0.1024 - val_acc: 0.9700\n",
            "Epoch 43/50\n",
            "10/10 [==============================] - 6s 560ms/step - loss: 0.1037 - acc: 0.9750 - val_loss: 0.2476 - val_acc: 0.9000\n",
            "Epoch 44/50\n",
            "10/10 [==============================] - 6s 560ms/step - loss: 0.1689 - acc: 0.9500 - val_loss: 0.1784 - val_acc: 0.9300\n",
            "Epoch 45/50\n",
            "10/10 [==============================] - 6s 552ms/step - loss: 0.1723 - acc: 0.9400 - val_loss: 0.0823 - val_acc: 0.9700\n",
            "Epoch 46/50\n",
            "10/10 [==============================] - 6s 548ms/step - loss: 0.0565 - acc: 0.9800 - val_loss: 0.0856 - val_acc: 0.9700\n",
            "Epoch 47/50\n",
            "10/10 [==============================] - 6s 545ms/step - loss: 0.0807 - acc: 0.9750 - val_loss: 0.0631 - val_acc: 0.9800\n",
            "Epoch 48/50\n",
            "10/10 [==============================] - 6s 550ms/step - loss: 0.1008 - acc: 0.9700 - val_loss: 0.1279 - val_acc: 0.9600\n",
            "Epoch 49/50\n",
            "10/10 [==============================] - 6s 555ms/step - loss: 0.1717 - acc: 0.9300 - val_loss: 0.0303 - val_acc: 0.9800\n",
            "Epoch 50/50\n",
            "10/10 [==============================] - 6s 556ms/step - loss: 0.1203 - acc: 0.9500 - val_loss: 0.3198 - val_acc: 0.8600\n"
          ]
        }
      ],
      "source": [
        "from tensorflow.keras import optimizers\n",
        "model2.compile(loss='binary_crossentropy',\n",
        "optimizer=optimizers.RMSprop(lr=2e-5),\n",
        "metrics=['acc'])\n",
        "\n",
        "history = model2.fit_generator(\n",
        "train_generator,\n",
        "steps_per_epoch=10,\n",
        "epochs=50,\n",
        "validation_data=validation_generator,\n",
        "validation_steps=5)"
      ],
      "id": "2Xxi6Kgw33B0"
    },
    {
      "cell_type": "code",
      "execution_count": null,
      "metadata": {
        "colab": {
          "base_uri": "https://localhost:8080/",
          "height": 545
        },
        "id": "ebX43vAC4Se3",
        "outputId": "e195294d-6622-43a2-daee-1d4e6a450916"
      },
      "outputs": [
        {
          "output_type": "display_data",
          "data": {
            "text/plain": [
              "<Figure size 432x288 with 1 Axes>"
            ],
            "image/png": "[encoded data removed]"
          },
          "metadata": {
            "needs_background": "light"
          }
        },
        {
          "output_type": "display_data",
          "data": {
            "text/plain": [
              "<Figure size 432x288 with 1 Axes>"
            ],
            "image/png": "[encoded data removed]"
          },
          "metadata": {
            "needs_background": "light"
          }
        }
      ],
      "source": [
        "import matplotlib.pyplot as plt\n",
        "acc = history.history['acc']\n",
        "val_acc = history.history['val_acc']\n",
        "loss = history.history['loss']\n",
        "val_loss = history.history['val_loss']\n",
        "epochs = range(1, len(acc) + 1)\n",
        "plt.plot(epochs, acc, 'bo', label='Training acc')\n",
        "plt.plot(epochs, val_acc, 'b', label='Validation acc')\n",
        "plt.title('Training and validation accuracy')\n",
        "plt.legend()\n",
        "plt.figure()\n",
        "plt.plot(epochs, loss, 'bo', label='Training loss')\n",
        "plt.plot(epochs, val_loss, 'b', label='Validation loss')\n",
        "plt.title('Training and validation loss')\n",
        "plt.legend()\n",
        "plt.show()"
      ],
      "id": "ebX43vAC4Se3"
    },
    {
      "cell_type": "code",
      "execution_count": null,
      "metadata": {
        "colab": {
          "base_uri": "https://localhost:8080/"
        },
        "id": "LmkAQTObb0HL",
        "outputId": "fd51ca76-3541-4744-d2b6-ebdb50c289df"
      },
      "outputs": [
        {
          "output_type": "stream",
          "name": "stdout",
          "text": [
            "Found 480 images belonging to 2 classes.\n"
          ]
        }
      ],
      "source": [
        "test_generator = test_datagen.flow_from_directory(\n",
        "test_dir,\n",
        "target_size=(240, 240),\n",
        "batch_size=batch_size)"
      ],
      "id": "LmkAQTObb0HL"
    },
    {
      "cell_type": "code",
      "execution_count": null,
      "metadata": {
        "colab": {
          "base_uri": "https://localhost:8080/"
        },
        "id": "w-FFzDS3aaEa",
        "outputId": "168316df-520a-4b0d-88cc-ca660fce75b4"
      },
      "outputs": [
        {
          "output_type": "stream",
          "name": "stderr",
          "text": [
            "/usr/local/lib/python3.7/dist-packages/ipykernel_launcher.py:1: UserWarning: `Model.predict_generator` is deprecated and will be removed in a future version. Please use `Model.predict`, which supports generators.\n",
            "  \"\"\"Entry point for launching an IPython kernel.\n"
          ]
        }
      ],
      "source": [
        "a=model2.predict_generator(test_generator)\n",
        "\n",
        "\n",
        "threshold = 0.5\n",
        "\n",
        "resultsvgg192 = (a>threshold)*1"
      ],
      "id": "w-FFzDS3aaEa"
    },
    {
      "cell_type": "code",
      "execution_count": null,
      "metadata": {
        "colab": {
          "base_uri": "https://localhost:8080/"
        },
        "id": "Qxlbd4HadkYk",
        "outputId": "ebf1836b-47f1-47d7-f266-1fbe795fa300"
      },
      "outputs": [
        {
          "output_type": "execute_result",
          "data": {
            "text/plain": [
              "0.7625"
            ]
          },
          "metadata": {},
          "execution_count": 110
        }
      ],
      "source": [
        "import sklearn\n",
        "acc = sklearn.metrics.accuracy_score(test_labels, resultsvgg192[0:80])\n",
        "acc"
      ],
      "id": "Qxlbd4HadkYk"
    },
    {
      "cell_type": "code",
      "execution_count": null,
      "metadata": {
        "colab": {
          "base_uri": "https://localhost:8080/",
          "height": 282
        },
        "id": "do3ZEWYF4ZDY",
        "outputId": "84d91f83-4931-4bee-f7b0-63fadbda7965"
      },
      "outputs": [
        {
          "output_type": "execute_result",
          "data": {
            "text/plain": [
              "<matplotlib.axes._subplots.AxesSubplot at 0x7f5df663f450>"
            ]
          },
          "metadata": {},
          "execution_count": 111
        },
        {
          "output_type": "display_data",
          "data": {
            "text/plain": [
              "<Figure size 432x288 with 1 Axes>"
            ],
            "image/png": "[encoded data removed]"
          },
          "metadata": {
            "needs_background": "light"
          }
        }
      ],
      "source": [
        "from sklearn.metrics import confusion_matrix\n",
        "import seaborn as sns\n",
        "matrix_confusion = confusion_matrix(test_labels, results[0:80])\n",
        "sns.heatmap(matrix_confusion, square=True, annot=True, cmap='Blues', fmt='d', cbar=False)"
      ],
      "id": "do3ZEWYF4ZDY"
    },
    {
      "cell_type": "markdown",
      "metadata": {
        "id": "cwUEqD_i23RN"
      },
      "source": [
        "#Resnet50"
      ],
      "id": "cwUEqD_i23RN"
    },
    {
      "cell_type": "code",
      "execution_count": null,
      "metadata": {
        "id": "KFj6uSWE2_L_"
      },
      "outputs": [],
      "source": [
        "import tensorflow\n",
        "tensorflow.keras.applications.Xception\n",
        "#from tensorflow.keras.applications import xception\n",
        "conv_base = tensorflow.keras.applications.Xception(weights='imagenet',include_top=False,input_shape=(240, 240, 3))"
      ],
      "id": "KFj6uSWE2_L_"
    },
    {
      "cell_type": "code",
      "execution_count": null,
      "metadata": {
        "colab": {
          "base_uri": "https://localhost:8080/"
        },
        "id": "9nAsoe264u6I",
        "outputId": "af60fe50-f65f-4823-aed5-937d4e23f314"
      },
      "outputs": [
        {
          "output_type": "stream",
          "name": "stdout",
          "text": [
            "Model: \"xception\"\n",
            "__________________________________________________________________________________________________\n",
            " Layer (type)                   Output Shape         Param #     Connected to                     \n",
            "==================================================================================================\n",
            " input_2 (InputLayer)           [(None, 240, 240, 3  0           []                               \n",
            "                                )]                                                                \n",
            "                                                                                                  \n",
            " block1_conv1 (Conv2D)          (None, 119, 119, 32  864         ['input_2[0][0]']                \n",
            "                                )                                                                 \n",
            "                                                                                                  \n",
            " block1_conv1_bn (BatchNormaliz  (None, 119, 119, 32  128        ['block1_conv1[0][0]']           \n",
            " ation)                         )                                                                 \n",
            "                                                                                                  \n",
            " block1_conv1_act (Activation)  (None, 119, 119, 32  0           ['block1_conv1_bn[0][0]']        \n",
            "                                )                                                                 \n",
            "                                                                                                  \n",
            " block1_conv2 (Conv2D)          (None, 117, 117, 64  18432       ['block1_conv1_act[0][0]']       \n",
            "                                )                                                                 \n",
            "                                                                                                  \n",
            " block1_conv2_bn (BatchNormaliz  (None, 117, 117, 64  256        ['block1_conv2[0][0]']           \n",
            " ation)                         )                                                                 \n",
            "                                                                                                  \n",
            " block1_conv2_act (Activation)  (None, 117, 117, 64  0           ['block1_conv2_bn[0][0]']        \n",
            "                                )                                                                 \n",
            "                                                                                                  \n",
            " block2_sepconv1 (SeparableConv  (None, 117, 117, 12  8768       ['block1_conv2_act[0][0]']       \n",
            " 2D)                            8)                                                                \n",
            "                                                                                                  \n",
            " block2_sepconv1_bn (BatchNorma  (None, 117, 117, 12  512        ['block2_sepconv1[0][0]']        \n",
            " lization)                      8)                                                                \n",
            "                                                                                                  \n",
            " block2_sepconv2_act (Activatio  (None, 117, 117, 12  0          ['block2_sepconv1_bn[0][0]']     \n",
            " n)                             8)                                                                \n",
            "                                                                                                  \n",
            " block2_sepconv2 (SeparableConv  (None, 117, 117, 12  17536      ['block2_sepconv2_act[0][0]']    \n",
            " 2D)                            8)                                                                \n",
            "                                                                                                  \n",
            " block2_sepconv2_bn (BatchNorma  (None, 117, 117, 12  512        ['block2_sepconv2[0][0]']        \n",
            " lization)                      8)                                                                \n",
            "                                                                                                  \n",
            " conv2d_4 (Conv2D)              (None, 59, 59, 128)  8192        ['block1_conv2_act[0][0]']       \n",
            "                                                                                                  \n",
            " block2_pool (MaxPooling2D)     (None, 59, 59, 128)  0           ['block2_sepconv2_bn[0][0]']     \n",
            "                                                                                                  \n",
            " batch_normalization_4 (BatchNo  (None, 59, 59, 128)  512        ['conv2d_4[0][0]']               \n",
            " rmalization)                                                                                     \n",
            "                                                                                                  \n",
            " add_12 (Add)                   (None, 59, 59, 128)  0           ['block2_pool[0][0]',            \n",
            "                                                                  'batch_normalization_4[0][0]']  \n",
            "                                                                                                  \n",
            " block3_sepconv1_act (Activatio  (None, 59, 59, 128)  0          ['add_12[0][0]']                 \n",
            " n)                                                                                               \n",
            "                                                                                                  \n",
            " block3_sepconv1 (SeparableConv  (None, 59, 59, 256)  33920      ['block3_sepconv1_act[0][0]']    \n",
            " 2D)                                                                                              \n",
            "                                                                                                  \n",
            " block3_sepconv1_bn (BatchNorma  (None, 59, 59, 256)  1024       ['block3_sepconv1[0][0]']        \n",
            " lization)                                                                                        \n",
            "                                                                                                  \n",
            " block3_sepconv2_act (Activatio  (None, 59, 59, 256)  0          ['block3_sepconv1_bn[0][0]']     \n",
            " n)                                                                                               \n",
            "                                                                                                  \n",
            " block3_sepconv2 (SeparableConv  (None, 59, 59, 256)  67840      ['block3_sepconv2_act[0][0]']    \n",
            " 2D)                                                                                              \n",
            "                                                                                                  \n",
            " block3_sepconv2_bn (BatchNorma  (None, 59, 59, 256)  1024       ['block3_sepconv2[0][0]']        \n",
            " lization)                                                                                        \n",
            "                                                                                                  \n",
            " conv2d_5 (Conv2D)              (None, 30, 30, 256)  32768       ['add_12[0][0]']                 \n",
            "                                                                                                  \n",
            " block3_pool (MaxPooling2D)     (None, 30, 30, 256)  0           ['block3_sepconv2_bn[0][0]']     \n",
            "                                                                                                  \n",
            " batch_normalization_5 (BatchNo  (None, 30, 30, 256)  1024       ['conv2d_5[0][0]']               \n",
            " rmalization)                                                                                     \n",
            "                                                                                                  \n",
            " add_13 (Add)                   (None, 30, 30, 256)  0           ['block3_pool[0][0]',            \n",
            "                                                                  'batch_normalization_5[0][0]']  \n",
            "                                                                                                  \n",
            " block4_sepconv1_act (Activatio  (None, 30, 30, 256)  0          ['add_13[0][0]']                 \n",
            " n)                                                                                               \n",
            "                                                                                                  \n",
            " block4_sepconv1 (SeparableConv  (None, 30, 30, 728)  188672     ['block4_sepconv1_act[0][0]']    \n",
            " 2D)                                                                                              \n",
            "                                                                                                  \n",
            " block4_sepconv1_bn (BatchNorma  (None, 30, 30, 728)  2912       ['block4_sepconv1[0][0]']        \n",
            " lization)                                                                                        \n",
            "                                                                                                  \n",
            " block4_sepconv2_act (Activatio  (None, 30, 30, 728)  0          ['block4_sepconv1_bn[0][0]']     \n",
            " n)                                                                                               \n",
            "                                                                                                  \n",
            " block4_sepconv2 (SeparableConv  (None, 30, 30, 728)  536536     ['block4_sepconv2_act[0][0]']    \n",
            " 2D)                                                                                              \n",
            "                                                                                                  \n",
            " block4_sepconv2_bn (BatchNorma  (None, 30, 30, 728)  2912       ['block4_sepconv2[0][0]']        \n",
            " lization)                                                                                        \n",
            "                                                                                                  \n",
            " conv2d_6 (Conv2D)              (None, 15, 15, 728)  186368      ['add_13[0][0]']                 \n",
            "                                                                                                  \n",
            " block4_pool (MaxPooling2D)     (None, 15, 15, 728)  0           ['block4_sepconv2_bn[0][0]']     \n",
            "                                                                                                  \n",
            " batch_normalization_6 (BatchNo  (None, 15, 15, 728)  2912       ['conv2d_6[0][0]']               \n",
            " rmalization)                                                                                     \n",
            "                                                                                                  \n",
            " add_14 (Add)                   (None, 15, 15, 728)  0           ['block4_pool[0][0]',            \n",
            "                                                                  'batch_normalization_6[0][0]']  \n",
            "                                                                                                  \n",
            " block5_sepconv1_act (Activatio  (None, 15, 15, 728)  0          ['add_14[0][0]']                 \n",
            " n)                                                                                               \n",
            "                                                                                                  \n",
            " block5_sepconv1 (SeparableConv  (None, 15, 15, 728)  536536     ['block5_sepconv1_act[0][0]']    \n",
            " 2D)                                                                                              \n",
            "                                                                                                  \n",
            " block5_sepconv1_bn (BatchNorma  (None, 15, 15, 728)  2912       ['block5_sepconv1[0][0]']        \n",
            " lization)                                                                                        \n",
            "                                                                                                  \n",
            " block5_sepconv2_act (Activatio  (None, 15, 15, 728)  0          ['block5_sepconv1_bn[0][0]']     \n",
            " n)                                                                                               \n",
            "                                                                                                  \n",
            " block5_sepconv2 (SeparableConv  (None, 15, 15, 728)  536536     ['block5_sepconv2_act[0][0]']    \n",
            " 2D)                                                                                              \n",
            "                                                                                                  \n",
            " block5_sepconv2_bn (BatchNorma  (None, 15, 15, 728)  2912       ['block5_sepconv2[0][0]']        \n",
            " lization)                                                                                        \n",
            "                                                                                                  \n",
            " block5_sepconv3_act (Activatio  (None, 15, 15, 728)  0          ['block5_sepconv2_bn[0][0]']     \n",
            " n)                                                                                               \n",
            "                                                                                                  \n",
            " block5_sepconv3 (SeparableConv  (None, 15, 15, 728)  536536     ['block5_sepconv3_act[0][0]']    \n",
            " 2D)                                                                                              \n",
            "                                                                                                  \n",
            " block5_sepconv3_bn (BatchNorma  (None, 15, 15, 728)  2912       ['block5_sepconv3[0][0]']        \n",
            " lization)                                                                                        \n",
            "                                                                                                  \n",
            " add_15 (Add)                   (None, 15, 15, 728)  0           ['block5_sepconv3_bn[0][0]',     \n",
            "                                                                  'add_14[0][0]']                 \n",
            "                                                                                                  \n",
            " block6_sepconv1_act (Activatio  (None, 15, 15, 728)  0          ['add_15[0][0]']                 \n",
            " n)                                                                                               \n",
            "                                                                                                  \n",
            " block6_sepconv1 (SeparableConv  (None, 15, 15, 728)  536536     ['block6_sepconv1_act[0][0]']    \n",
            " 2D)                                                                                              \n",
            "                                                                                                  \n",
            " block6_sepconv1_bn (BatchNorma  (None, 15, 15, 728)  2912       ['block6_sepconv1[0][0]']        \n",
            " lization)                                                                                        \n",
            "                                                                                                  \n",
            " block6_sepconv2_act (Activatio  (None, 15, 15, 728)  0          ['block6_sepconv1_bn[0][0]']     \n",
            " n)                                                                                               \n",
            "                                                                                                  \n",
            " block6_sepconv2 (SeparableConv  (None, 15, 15, 728)  536536     ['block6_sepconv2_act[0][0]']    \n",
            " 2D)                                                                                              \n",
            "                                                                                                  \n",
            " block6_sepconv2_bn (BatchNorma  (None, 15, 15, 728)  2912       ['block6_sepconv2[0][0]']        \n",
            " lization)                                                                                        \n",
            "                                                                                                  \n",
            " block6_sepconv3_act (Activatio  (None, 15, 15, 728)  0          ['block6_sepconv2_bn[0][0]']     \n",
            " n)                                                                                               \n",
            "                                                                                                  \n",
            " block6_sepconv3 (SeparableConv  (None, 15, 15, 728)  536536     ['block6_sepconv3_act[0][0]']    \n",
            " 2D)                                                                                              \n",
            "                                                                                                  \n",
            " block6_sepconv3_bn (BatchNorma  (None, 15, 15, 728)  2912       ['block6_sepconv3[0][0]']        \n",
            " lization)                                                                                        \n",
            "                                                                                                  \n",
            " add_16 (Add)                   (None, 15, 15, 728)  0           ['block6_sepconv3_bn[0][0]',     \n",
            "                                                                  'add_15[0][0]']                 \n",
            "                                                                                                  \n",
            " block7_sepconv1_act (Activatio  (None, 15, 15, 728)  0          ['add_16[0][0]']                 \n",
            " n)                                                                                               \n",
            "                                                                                                  \n",
            " block7_sepconv1 (SeparableConv  (None, 15, 15, 728)  536536     ['block7_sepconv1_act[0][0]']    \n",
            " 2D)                                                                                              \n",
            "                                                                                                  \n",
            " block7_sepconv1_bn (BatchNorma  (None, 15, 15, 728)  2912       ['block7_sepconv1[0][0]']        \n",
            " lization)                                                                                        \n",
            "                                                                                                  \n",
            " block7_sepconv2_act (Activatio  (None, 15, 15, 728)  0          ['block7_sepconv1_bn[0][0]']     \n",
            " n)                                                                                               \n",
            "                                                                                                  \n",
            " block7_sepconv2 (SeparableConv  (None, 15, 15, 728)  536536     ['block7_sepconv2_act[0][0]']    \n",
            " 2D)                                                                                              \n",
            "                                                                                                  \n",
            " block7_sepconv2_bn (BatchNorma  (None, 15, 15, 728)  2912       ['block7_sepconv2[0][0]']        \n",
            " lization)                                                                                        \n",
            "                                                                                                  \n",
            " block7_sepconv3_act (Activatio  (None, 15, 15, 728)  0          ['block7_sepconv2_bn[0][0]']     \n",
            " n)                                                                                               \n",
            "                                                                                                  \n",
            " block7_sepconv3 (SeparableConv  (None, 15, 15, 728)  536536     ['block7_sepconv3_act[0][0]']    \n",
            " 2D)                                                                                              \n",
            "                                                                                                  \n",
            " block7_sepconv3_bn (BatchNorma  (None, 15, 15, 728)  2912       ['block7_sepconv3[0][0]']        \n",
            " lization)                                                                                        \n",
            "                                                                                                  \n",
            " add_17 (Add)                   (None, 15, 15, 728)  0           ['block7_sepconv3_bn[0][0]',     \n",
            "                                                                  'add_16[0][0]']                 \n",
            "                                                                                                  \n",
            " block8_sepconv1_act (Activatio  (None, 15, 15, 728)  0          ['add_17[0][0]']                 \n",
            " n)                                                                                               \n",
            "                                                                                                  \n",
            " block8_sepconv1 (SeparableConv  (None, 15, 15, 728)  536536     ['block8_sepconv1_act[0][0]']    \n",
            " 2D)                                                                                              \n",
            "                                                                                                  \n",
            " block8_sepconv1_bn (BatchNorma  (None, 15, 15, 728)  2912       ['block8_sepconv1[0][0]']        \n",
            " lization)                                                                                        \n",
            "                                                                                                  \n",
            " block8_sepconv2_act (Activatio  (None, 15, 15, 728)  0          ['block8_sepconv1_bn[0][0]']     \n",
            " n)                                                                                               \n",
            "                                                                                                  \n",
            " block8_sepconv2 (SeparableConv  (None, 15, 15, 728)  536536     ['block8_sepconv2_act[0][0]']    \n",
            " 2D)                                                                                              \n",
            "                                                                                                  \n",
            " block8_sepconv2_bn (BatchNorma  (None, 15, 15, 728)  2912       ['block8_sepconv2[0][0]']        \n",
            " lization)                                                                                        \n",
            "                                                                                                  \n",
            " block8_sepconv3_act (Activatio  (None, 15, 15, 728)  0          ['block8_sepconv2_bn[0][0]']     \n",
            " n)                                                                                               \n",
            "                                                                                                  \n",
            " block8_sepconv3 (SeparableConv  (None, 15, 15, 728)  536536     ['block8_sepconv3_act[0][0]']    \n",
            " 2D)                                                                                              \n",
            "                                                                                                  \n",
            " block8_sepconv3_bn (BatchNorma  (None, 15, 15, 728)  2912       ['block8_sepconv3[0][0]']        \n",
            " lization)                                                                                        \n",
            "                                                                                                  \n",
            " add_18 (Add)                   (None, 15, 15, 728)  0           ['block8_sepconv3_bn[0][0]',     \n",
            "                                                                  'add_17[0][0]']                 \n",
            "                                                                                                  \n",
            " block9_sepconv1_act (Activatio  (None, 15, 15, 728)  0          ['add_18[0][0]']                 \n",
            " n)                                                                                               \n",
            "                                                                                                  \n",
            " block9_sepconv1 (SeparableConv  (None, 15, 15, 728)  536536     ['block9_sepconv1_act[0][0]']    \n",
            " 2D)                                                                                              \n",
            "                                                                                                  \n",
            " block9_sepconv1_bn (BatchNorma  (None, 15, 15, 728)  2912       ['block9_sepconv1[0][0]']        \n",
            " lization)                                                                                        \n",
            "                                                                                                  \n",
            " block9_sepconv2_act (Activatio  (None, 15, 15, 728)  0          ['block9_sepconv1_bn[0][0]']     \n",
            " n)                                                                                               \n",
            "                                                                                                  \n",
            " block9_sepconv2 (SeparableConv  (None, 15, 15, 728)  536536     ['block9_sepconv2_act[0][0]']    \n",
            " 2D)                                                                                              \n",
            "                                                                                                  \n",
            " block9_sepconv2_bn (BatchNorma  (None, 15, 15, 728)  2912       ['block9_sepconv2[0][0]']        \n",
            " lization)                                                                                        \n",
            "                                                                                                  \n",
            " block9_sepconv3_act (Activatio  (None, 15, 15, 728)  0          ['block9_sepconv2_bn[0][0]']     \n",
            " n)                                                                                               \n",
            "                                                                                                  \n",
            " block9_sepconv3 (SeparableConv  (None, 15, 15, 728)  536536     ['block9_sepconv3_act[0][0]']    \n",
            " 2D)                                                                                              \n",
            "                                                                                                  \n",
            " block9_sepconv3_bn (BatchNorma  (None, 15, 15, 728)  2912       ['block9_sepconv3[0][0]']        \n",
            " lization)                                                                                        \n",
            "                                                                                                  \n",
            " add_19 (Add)                   (None, 15, 15, 728)  0           ['block9_sepconv3_bn[0][0]',     \n",
            "                                                                  'add_18[0][0]']                 \n",
            "                                                                                                  \n",
            " block10_sepconv1_act (Activati  (None, 15, 15, 728)  0          ['add_19[0][0]']                 \n",
            " on)                                                                                              \n",
            "                                                                                                  \n",
            " block10_sepconv1 (SeparableCon  (None, 15, 15, 728)  536536     ['block10_sepconv1_act[0][0]']   \n",
            " v2D)                                                                                             \n",
            "                                                                                                  \n",
            " block10_sepconv1_bn (BatchNorm  (None, 15, 15, 728)  2912       ['block10_sepconv1[0][0]']       \n",
            " alization)                                                                                       \n",
            "                                                                                                  \n",
            " block10_sepconv2_act (Activati  (None, 15, 15, 728)  0          ['block10_sepconv1_bn[0][0]']    \n",
            " on)                                                                                              \n",
            "                                                                                                  \n",
            " block10_sepconv2 (SeparableCon  (None, 15, 15, 728)  536536     ['block10_sepconv2_act[0][0]']   \n",
            " v2D)                                                                                             \n",
            "                                                                                                  \n",
            " block10_sepconv2_bn (BatchNorm  (None, 15, 15, 728)  2912       ['block10_sepconv2[0][0]']       \n",
            " alization)                                                                                       \n",
            "                                                                                                  \n",
            " block10_sepconv3_act (Activati  (None, 15, 15, 728)  0          ['block10_sepconv2_bn[0][0]']    \n",
            " on)                                                                                              \n",
            "                                                                                                  \n",
            " block10_sepconv3 (SeparableCon  (None, 15, 15, 728)  536536     ['block10_sepconv3_act[0][0]']   \n",
            " v2D)                                                                                             \n",
            "                                                                                                  \n",
            " block10_sepconv3_bn (BatchNorm  (None, 15, 15, 728)  2912       ['block10_sepconv3[0][0]']       \n",
            " alization)                                                                                       \n",
            "                                                                                                  \n",
            " add_20 (Add)                   (None, 15, 15, 728)  0           ['block10_sepconv3_bn[0][0]',    \n",
            "                                                                  'add_19[0][0]']                 \n",
            "                                                                                                  \n",
            " block11_sepconv1_act (Activati  (None, 15, 15, 728)  0          ['add_20[0][0]']                 \n",
            " on)                                                                                              \n",
            "                                                                                                  \n",
            " block11_sepconv1 (SeparableCon  (None, 15, 15, 728)  536536     ['block11_sepconv1_act[0][0]']   \n",
            " v2D)                                                                                             \n",
            "                                                                                                  \n",
            " block11_sepconv1_bn (BatchNorm  (None, 15, 15, 728)  2912       ['block11_sepconv1[0][0]']       \n",
            " alization)                                                                                       \n",
            "                                                                                                  \n",
            " block11_sepconv2_act (Activati  (None, 15, 15, 728)  0          ['block11_sepconv1_bn[0][0]']    \n",
            " on)                                                                                              \n",
            "                                                                                                  \n",
            " block11_sepconv2 (SeparableCon  (None, 15, 15, 728)  536536     ['block11_sepconv2_act[0][0]']   \n",
            " v2D)                                                                                             \n",
            "                                                                                                  \n",
            " block11_sepconv2_bn (BatchNorm  (None, 15, 15, 728)  2912       ['block11_sepconv2[0][0]']       \n",
            " alization)                                                                                       \n",
            "                                                                                                  \n",
            " block11_sepconv3_act (Activati  (None, 15, 15, 728)  0          ['block11_sepconv2_bn[0][0]']    \n",
            " on)                                                                                              \n",
            "                                                                                                  \n",
            " block11_sepconv3 (SeparableCon  (None, 15, 15, 728)  536536     ['block11_sepconv3_act[0][0]']   \n",
            " v2D)                                                                                             \n",
            "                                                                                                  \n",
            " block11_sepconv3_bn (BatchNorm  (None, 15, 15, 728)  2912       ['block11_sepconv3[0][0]']       \n",
            " alization)                                                                                       \n",
            "                                                                                                  \n",
            " add_21 (Add)                   (None, 15, 15, 728)  0           ['block11_sepconv3_bn[0][0]',    \n",
            "                                                                  'add_20[0][0]']                 \n",
            "                                                                                                  \n",
            " block12_sepconv1_act (Activati  (None, 15, 15, 728)  0          ['add_21[0][0]']                 \n",
            " on)                                                                                              \n",
            "                                                                                                  \n",
            " block12_sepconv1 (SeparableCon  (None, 15, 15, 728)  536536     ['block12_sepconv1_act[0][0]']   \n",
            " v2D)                                                                                             \n",
            "                                                                                                  \n",
            " block12_sepconv1_bn (BatchNorm  (None, 15, 15, 728)  2912       ['block12_sepconv1[0][0]']       \n",
            " alization)                                                                                       \n",
            "                                                                                                  \n",
            " block12_sepconv2_act (Activati  (None, 15, 15, 728)  0          ['block12_sepconv1_bn[0][0]']    \n",
            " on)                                                                                              \n",
            "                                                                                                  \n",
            " block12_sepconv2 (SeparableCon  (None, 15, 15, 728)  536536     ['block12_sepconv2_act[0][0]']   \n",
            " v2D)                                                                                             \n",
            "                                                                                                  \n",
            " block12_sepconv2_bn (BatchNorm  (None, 15, 15, 728)  2912       ['block12_sepconv2[0][0]']       \n",
            " alization)                                                                                       \n",
            "                                                                                                  \n",
            " block12_sepconv3_act (Activati  (None, 15, 15, 728)  0          ['block12_sepconv2_bn[0][0]']    \n",
            " on)                                                                                              \n",
            "                                                                                                  \n",
            " block12_sepconv3 (SeparableCon  (None, 15, 15, 728)  536536     ['block12_sepconv3_act[0][0]']   \n",
            " v2D)                                                                                             \n",
            "                                                                                                  \n",
            " block12_sepconv3_bn (BatchNorm  (None, 15, 15, 728)  2912       ['block12_sepconv3[0][0]']       \n",
            " alization)                                                                                       \n",
            "                                                                                                  \n",
            " add_22 (Add)                   (None, 15, 15, 728)  0           ['block12_sepconv3_bn[0][0]',    \n",
            "                                                                  'add_21[0][0]']                 \n",
            "                                                                                                  \n",
            " block13_sepconv1_act (Activati  (None, 15, 15, 728)  0          ['add_22[0][0]']                 \n",
            " on)                                                                                              \n",
            "                                                                                                  \n",
            " block13_sepconv1 (SeparableCon  (None, 15, 15, 728)  536536     ['block13_sepconv1_act[0][0]']   \n",
            " v2D)                                                                                             \n",
            "                                                                                                  \n",
            " block13_sepconv1_bn (BatchNorm  (None, 15, 15, 728)  2912       ['block13_sepconv1[0][0]']       \n",
            " alization)                                                                                       \n",
            "                                                                                                  \n",
            " block13_sepconv2_act (Activati  (None, 15, 15, 728)  0          ['block13_sepconv1_bn[0][0]']    \n",
            " on)                                                                                              \n",
            "                                                                                                  \n",
            " block13_sepconv2 (SeparableCon  (None, 15, 15, 1024  752024     ['block13_sepconv2_act[0][0]']   \n",
            " v2D)                           )                                                                 \n",
            "                                                                                                  \n",
            " block13_sepconv2_bn (BatchNorm  (None, 15, 15, 1024  4096       ['block13_sepconv2[0][0]']       \n",
            " alization)                     )                                                                 \n",
            "                                                                                                  \n",
            " conv2d_7 (Conv2D)              (None, 8, 8, 1024)   745472      ['add_22[0][0]']                 \n",
            "                                                                                                  \n",
            " block13_pool (MaxPooling2D)    (None, 8, 8, 1024)   0           ['block13_sepconv2_bn[0][0]']    \n",
            "                                                                                                  \n",
            " batch_normalization_7 (BatchNo  (None, 8, 8, 1024)  4096        ['conv2d_7[0][0]']               \n",
            " rmalization)                                                                                     \n",
            "                                                                                                  \n",
            " add_23 (Add)                   (None, 8, 8, 1024)   0           ['block13_pool[0][0]',           \n",
            "                                                                  'batch_normalization_7[0][0]']  \n",
            "                                                                                                  \n",
            " block14_sepconv1 (SeparableCon  (None, 8, 8, 1536)  1582080     ['add_23[0][0]']                 \n",
            " v2D)                                                                                             \n",
            "                                                                                                  \n",
            " block14_sepconv1_bn (BatchNorm  (None, 8, 8, 1536)  6144        ['block14_sepconv1[0][0]']       \n",
            " alization)                                                                                       \n",
            "                                                                                                  \n",
            " block14_sepconv1_act (Activati  (None, 8, 8, 1536)  0           ['block14_sepconv1_bn[0][0]']    \n",
            " on)                                                                                              \n",
            "                                                                                                  \n",
            " block14_sepconv2 (SeparableCon  (None, 8, 8, 2048)  3159552     ['block14_sepconv1_act[0][0]']   \n",
            " v2D)                                                                                             \n",
            "                                                                                                  \n",
            " block14_sepconv2_bn (BatchNorm  (None, 8, 8, 2048)  8192        ['block14_sepconv2[0][0]']       \n",
            " alization)                                                                                       \n",
            "                                                                                                  \n",
            " block14_sepconv2_act (Activati  (None, 8, 8, 2048)  0           ['block14_sepconv2_bn[0][0]']    \n",
            " on)                                                                                              \n",
            "                                                                                                  \n",
            "==================================================================================================\n",
            "Total params: 20,861,480\n",
            "Trainable params: 20,806,952\n",
            "Non-trainable params: 54,528\n",
            "__________________________________________________________________________________________________\n"
          ]
        }
      ],
      "source": [
        "conv_base.summary()"
      ],
      "id": "9nAsoe264u6I"
    },
    {
      "cell_type": "code",
      "execution_count": null,
      "metadata": {
        "id": "n2SWLYFr3Go_"
      },
      "outputs": [],
      "source": [
        "from tensorflow.keras.preprocessing.image import ImageDataGenerator\n",
        "\n",
        "datagen = ImageDataGenerator(rescale=1./255)\n",
        "batch_size = 20\n",
        "def extract_features(directory, sample_count):\n",
        "    \n",
        "    features = np.zeros(shape=(sample_count, 8, 8, 2048))\n",
        "    labels = np.zeros(shape=(sample_count))\n",
        "    generator = datagen.flow_from_directory(\n",
        "    directory,\n",
        "    target_size=(240, 240),\n",
        "    batch_size=batch_size,\n",
        "    class_mode='binary')\n",
        "    i=0\n",
        "\n",
        " \n",
        "    for inputs_batch, labels_batch in generator:\n",
        "        features_batch = conv_base.predict(inputs_batch)\n",
        "        features[i * batch_size : (i + 1) * batch_size] = features_batch\n",
        "        labels[i * batch_size : (i + 1) * batch_size] = labels_batch\n",
        "        i += 1\n",
        "        if i * batch_size >= sample_count:\n",
        "            break\n",
        "    return features, labels\n",
        "\n",
        "\n",
        "\n"
      ],
      "id": "n2SWLYFr3Go_"
    },
    {
      "cell_type": "code",
      "execution_count": null,
      "metadata": {
        "colab": {
          "base_uri": "https://localhost:8080/"
        },
        "id": "zj_gOimF4oYP",
        "outputId": "32b78528-5cc9-43bc-a4d6-240e0c9135d8"
      },
      "outputs": [
        {
          "output_type": "stream",
          "name": "stdout",
          "text": [
            "Found 3000 images belonging to 2 classes.\n",
            "Found 200 images belonging to 2 classes.\n",
            "Found 480 images belonging to 2 classes.\n"
          ]
        },
        {
          "output_type": "stream",
          "name": "stderr",
          "text": [
            "/usr/local/lib/python3.7/dist-packages/keras/optimizer_v2/rmsprop.py:130: UserWarning: The `lr` argument is deprecated, use `learning_rate` instead.\n",
            "  super(RMSprop, self).__init__(name, **kwargs)\n"
          ]
        },
        {
          "output_type": "stream",
          "name": "stdout",
          "text": [
            "Epoch 1/50\n",
            "75/75 [==============================] - 3s 23ms/step - loss: 0.4710 - acc: 0.8080 - val_loss: 0.2395 - val_acc: 0.9000\n",
            "Epoch 2/50\n",
            "75/75 [==============================] - 2s 21ms/step - loss: 0.3039 - acc: 0.8707 - val_loss: 0.3231 - val_acc: 0.8700\n",
            "Epoch 3/50\n",
            "75/75 [==============================] - 2s 20ms/step - loss: 0.2911 - acc: 0.8913 - val_loss: 0.2228 - val_acc: 0.9000\n",
            "Epoch 4/50\n",
            "75/75 [==============================] - 2s 20ms/step - loss: 0.2401 - acc: 0.9007 - val_loss: 0.2754 - val_acc: 0.8600\n",
            "Epoch 5/50\n",
            "75/75 [==============================] - 2s 20ms/step - loss: 0.2251 - acc: 0.9047 - val_loss: 0.2553 - val_acc: 0.8800\n",
            "Epoch 6/50\n",
            "75/75 [==============================] - 2s 20ms/step - loss: 0.2195 - acc: 0.9107 - val_loss: 0.2363 - val_acc: 0.8900\n",
            "Epoch 7/50\n",
            "75/75 [==============================] - 2s 21ms/step - loss: 0.1701 - acc: 0.9333 - val_loss: 0.2582 - val_acc: 0.8900\n",
            "Epoch 8/50\n",
            "75/75 [==============================] - 2s 20ms/step - loss: 0.1609 - acc: 0.9333 - val_loss: 0.2227 - val_acc: 0.9000\n",
            "Epoch 9/50\n",
            "75/75 [==============================] - 2s 20ms/step - loss: 0.1291 - acc: 0.9467 - val_loss: 0.3417 - val_acc: 0.9000\n",
            "Epoch 10/50\n",
            "75/75 [==============================] - 2s 20ms/step - loss: 0.1380 - acc: 0.9493 - val_loss: 0.2312 - val_acc: 0.9100\n",
            "Epoch 11/50\n",
            "75/75 [==============================] - 2s 21ms/step - loss: 0.1174 - acc: 0.9560 - val_loss: 0.2887 - val_acc: 0.9000\n",
            "Epoch 12/50\n",
            "75/75 [==============================] - 2s 21ms/step - loss: 0.1162 - acc: 0.9527 - val_loss: 0.2127 - val_acc: 0.9200\n",
            "Epoch 13/50\n",
            "75/75 [==============================] - 2s 20ms/step - loss: 0.1002 - acc: 0.9573 - val_loss: 0.2145 - val_acc: 0.9200\n",
            "Epoch 14/50\n",
            "75/75 [==============================] - 2s 20ms/step - loss: 0.0935 - acc: 0.9673 - val_loss: 0.2643 - val_acc: 0.9100\n",
            "Epoch 15/50\n",
            "75/75 [==============================] - 2s 20ms/step - loss: 0.0777 - acc: 0.9667 - val_loss: 0.2400 - val_acc: 0.9200\n",
            "Epoch 16/50\n",
            "75/75 [==============================] - 2s 20ms/step - loss: 0.0688 - acc: 0.9727 - val_loss: 0.2630 - val_acc: 0.8900\n",
            "Epoch 17/50\n",
            "75/75 [==============================] - 2s 21ms/step - loss: 0.0677 - acc: 0.9753 - val_loss: 0.3656 - val_acc: 0.8800\n",
            "Epoch 18/50\n",
            "75/75 [==============================] - 2s 20ms/step - loss: 0.0735 - acc: 0.9727 - val_loss: 0.2558 - val_acc: 0.8900\n",
            "Epoch 19/50\n",
            "75/75 [==============================] - 2s 20ms/step - loss: 0.0514 - acc: 0.9820 - val_loss: 0.2474 - val_acc: 0.9100\n",
            "Epoch 20/50\n",
            "75/75 [==============================] - 2s 20ms/step - loss: 0.0555 - acc: 0.9807 - val_loss: 0.2901 - val_acc: 0.9000\n",
            "Epoch 21/50\n",
            "75/75 [==============================] - 2s 20ms/step - loss: 0.0478 - acc: 0.9820 - val_loss: 0.2848 - val_acc: 0.9100\n",
            "Epoch 22/50\n",
            "75/75 [==============================] - 2s 20ms/step - loss: 0.0469 - acc: 0.9813 - val_loss: 0.2830 - val_acc: 0.9000\n",
            "Epoch 23/50\n",
            "75/75 [==============================] - 2s 20ms/step - loss: 0.0306 - acc: 0.9913 - val_loss: 0.4144 - val_acc: 0.8900\n",
            "Epoch 24/50\n",
            "75/75 [==============================] - 2s 20ms/step - loss: 0.0328 - acc: 0.9887 - val_loss: 0.3132 - val_acc: 0.8800\n",
            "Epoch 25/50\n",
            "75/75 [==============================] - 2s 21ms/step - loss: 0.0343 - acc: 0.9860 - val_loss: 0.3085 - val_acc: 0.9000\n",
            "Epoch 26/50\n",
            "75/75 [==============================] - 2s 20ms/step - loss: 0.0295 - acc: 0.9913 - val_loss: 0.2947 - val_acc: 0.9000\n",
            "Epoch 27/50\n",
            "75/75 [==============================] - 2s 20ms/step - loss: 0.0261 - acc: 0.9920 - val_loss: 0.2805 - val_acc: 0.9000\n",
            "Epoch 28/50\n",
            "75/75 [==============================] - 2s 20ms/step - loss: 0.0236 - acc: 0.9927 - val_loss: 0.2739 - val_acc: 0.9100\n",
            "Epoch 29/50\n",
            "75/75 [==============================] - 2s 20ms/step - loss: 0.0229 - acc: 0.9933 - val_loss: 0.3293 - val_acc: 0.9200\n",
            "Epoch 30/50\n",
            "75/75 [==============================] - 2s 20ms/step - loss: 0.0233 - acc: 0.9933 - val_loss: 0.3110 - val_acc: 0.9000\n",
            "Epoch 31/50\n",
            "75/75 [==============================] - 2s 20ms/step - loss: 0.0222 - acc: 0.9913 - val_loss: 0.2768 - val_acc: 0.9200\n",
            "Epoch 32/50\n",
            "75/75 [==============================] - 2s 20ms/step - loss: 0.0153 - acc: 0.9960 - val_loss: 0.3537 - val_acc: 0.8900\n",
            "Epoch 33/50\n",
            "75/75 [==============================] - 2s 20ms/step - loss: 0.0199 - acc: 0.9933 - val_loss: 0.3337 - val_acc: 0.9000\n",
            "Epoch 34/50\n",
            "75/75 [==============================] - 2s 20ms/step - loss: 0.0156 - acc: 0.9953 - val_loss: 0.3136 - val_acc: 0.8900\n",
            "Epoch 35/50\n",
            "75/75 [==============================] - 1s 20ms/step - loss: 0.0217 - acc: 0.9933 - val_loss: 0.3654 - val_acc: 0.9000\n",
            "Epoch 36/50\n",
            "75/75 [==============================] - 2s 21ms/step - loss: 0.0110 - acc: 0.9967 - val_loss: 0.3214 - val_acc: 0.9000\n",
            "Epoch 37/50\n",
            "75/75 [==============================] - 2s 20ms/step - loss: 0.0107 - acc: 0.9967 - val_loss: 0.3996 - val_acc: 0.8900\n",
            "Epoch 38/50\n",
            "75/75 [==============================] - 2s 20ms/step - loss: 0.0107 - acc: 0.9980 - val_loss: 0.3483 - val_acc: 0.9100\n",
            "Epoch 39/50\n",
            "75/75 [==============================] - 2s 21ms/step - loss: 0.0109 - acc: 0.9967 - val_loss: 0.4208 - val_acc: 0.9100\n",
            "Epoch 40/50\n",
            "75/75 [==============================] - 2s 20ms/step - loss: 0.0099 - acc: 0.9987 - val_loss: 0.4631 - val_acc: 0.9000\n",
            "Epoch 41/50\n",
            "75/75 [==============================] - 2s 20ms/step - loss: 0.0103 - acc: 0.9967 - val_loss: 0.3353 - val_acc: 0.9100\n",
            "Epoch 42/50\n",
            "75/75 [==============================] - 2s 20ms/step - loss: 0.0098 - acc: 0.9973 - val_loss: 0.3687 - val_acc: 0.9000\n",
            "Epoch 43/50\n",
            "75/75 [==============================] - 2s 21ms/step - loss: 0.0089 - acc: 0.9973 - val_loss: 0.4127 - val_acc: 0.9100\n",
            "Epoch 44/50\n",
            "75/75 [==============================] - 2s 21ms/step - loss: 0.0072 - acc: 0.9967 - val_loss: 0.4510 - val_acc: 0.8900\n",
            "Epoch 45/50\n",
            "75/75 [==============================] - 2s 20ms/step - loss: 0.0062 - acc: 0.9980 - val_loss: 0.4011 - val_acc: 0.9000\n",
            "Epoch 46/50\n",
            "75/75 [==============================] - 2s 20ms/step - loss: 0.0066 - acc: 0.9987 - val_loss: 0.5103 - val_acc: 0.8800\n",
            "Epoch 47/50\n",
            "75/75 [==============================] - 2s 21ms/step - loss: 0.0051 - acc: 0.9993 - val_loss: 0.4395 - val_acc: 0.9100\n",
            "Epoch 48/50\n",
            "75/75 [==============================] - 2s 20ms/step - loss: 0.0070 - acc: 0.9980 - val_loss: 0.3917 - val_acc: 0.9100\n",
            "Epoch 49/50\n",
            "75/75 [==============================] - 2s 20ms/step - loss: 0.0053 - acc: 0.9987 - val_loss: 0.3766 - val_acc: 0.9000\n",
            "Epoch 50/50\n",
            "75/75 [==============================] - 2s 20ms/step - loss: 0.0044 - acc: 0.9987 - val_loss: 0.4083 - val_acc: 0.8900\n"
          ]
        }
      ],
      "source": [
        "import numpy as np\n",
        "train_dir=\"/content/drive/MyDrive/lo/train\"\n",
        "validation_dir=\"/content/drive/MyDrive/lo/validation\"\n",
        "test_dir=\"/content/drive/MyDrive/lo/test\"\n",
        "\n",
        "\n",
        "train_features, train_labels = extract_features(train_dir, 1500)\n",
        "validation_features, validation_labels = extract_features(validation_dir, 100)\n",
        "test_features, test_labels = extract_features(test_dir,80)\n",
        "train_features=np.reshape(train_features, (1500, 8*8* 2048))\n",
        "validation_features=np.reshape(validation_features, (100,8*8* 2048))\n",
        "test_features=np.reshape(test_features, (80, 8*8* 2048))\n",
        "from keras import models\n",
        "from keras import layers\n",
        "from tensorflow.keras import optimizers\n",
        "model = models.Sequential()\n",
        "model.add(layers.Dense(256, activation='relu', input_dim=8 * 8 * 2048))\n",
        "model.add(layers.Dropout(0.5))\n",
        "model.add(layers.Dense(1, activation='sigmoid'))\n",
        "model.compile(optimizer=optimizers.RMSprop(lr=2e-5),\n",
        "loss='binary_crossentropy',\n",
        "metrics=['acc'])\n",
        "history = model.fit(train_features, train_labels,\n",
        "epochs=50,\n",
        "batch_size=20,\n",
        "validation_data=(validation_features, validation_labels))\n"
      ],
      "id": "zj_gOimF4oYP"
    },
    {
      "cell_type": "code",
      "execution_count": null,
      "metadata": {
        "colab": {
          "base_uri": "https://localhost:8080/",
          "height": 545
        },
        "id": "bmCCBK-I5hhu",
        "outputId": "e75ed653-d1d2-48d9-c7ad-2687388c4a14"
      },
      "outputs": [
        {
          "output_type": "display_data",
          "data": {
            "text/plain": [
              "<Figure size 432x288 with 1 Axes>"
            ],
            "image/png": "[encoded data removed]"
          },
          "metadata": {
            "needs_background": "light"
          }
        },
        {
          "output_type": "display_data",
          "data": {
            "text/plain": [
              "<Figure size 432x288 with 1 Axes>"
            ],
            "image/png": "[encoded data removed]"
          },
          "metadata": {
            "needs_background": "light"
          }
        }
      ],
      "source": [
        "import matplotlib.pyplot as plt\n",
        "acc = history.history['acc']\n",
        "val_acc = history.history['val_acc']\n",
        "loss = history.history['loss']\n",
        "val_loss = history.history['val_loss']\n",
        "epochs = range(1, len(acc) + 1)\n",
        "plt.plot(epochs, acc, 'bo', label='Training acc')\n",
        "plt.plot(epochs, val_acc, 'b', label='Validation acc')\n",
        "plt.title('Training and validation accuracy')\n",
        "plt.legend()\n",
        "plt.figure()\n",
        "plt.plot(epochs, loss, 'bo', label='Training loss')\n",
        "plt.plot(epochs, val_loss, 'b', label='Validation loss')\n",
        "plt.title('Training and validation loss')\n",
        "plt.legend()\n",
        "plt.show()"
      ],
      "id": "bmCCBK-I5hhu"
    },
    {
      "cell_type": "code",
      "execution_count": null,
      "metadata": {
        "id": "_8zgAt5U71EE"
      },
      "outputs": [],
      "source": [
        "a=model.predict(test_features)\n",
        "threshold = 0.5\n",
        "\n",
        "resultsRE1 = (a>threshold)*1\n"
      ],
      "id": "_8zgAt5U71EE"
    },
    {
      "cell_type": "code",
      "execution_count": null,
      "metadata": {
        "colab": {
          "base_uri": "https://localhost:8080/",
          "height": 282
        },
        "id": "ScL--KjW60mc",
        "outputId": "37a9ae5b-64f2-49c9-a6c8-821fdb508f2c"
      },
      "outputs": [
        {
          "output_type": "execute_result",
          "data": {
            "text/plain": [
              "<matplotlib.axes._subplots.AxesSubplot at 0x7fa342be9890>"
            ]
          },
          "metadata": {},
          "execution_count": 23
        },
        {
          "output_type": "display_data",
          "data": {
            "text/plain": [
              "<Figure size 432x288 with 1 Axes>"
            ],
            "image/png": "[encoded data removed]"
          },
          "metadata": {
            "needs_background": "light"
          }
        }
      ],
      "source": [
        "from sklearn.metrics import confusion_matrix\n",
        "import seaborn as sns\n",
        "matrix_confusion = confusion_matrix(test_labels, resultsRE1[0:80])\n",
        "sns.heatmap(matrix_confusion, square=True, annot=True, cmap='Blues', fmt='d', cbar=False)"
      ],
      "id": "ScL--KjW60mc"
    },
    {
      "cell_type": "code",
      "execution_count": null,
      "metadata": {
        "colab": {
          "base_uri": "https://localhost:8080/"
        },
        "id": "XhWZQOIp7gCj",
        "outputId": "d32abdb6-ea89-4bd5-d259-b42c89986ec3"
      },
      "outputs": [
        {
          "output_type": "execute_result",
          "data": {
            "text/plain": [
              "0.9375"
            ]
          },
          "metadata": {},
          "execution_count": 24
        }
      ],
      "source": [
        "import sklearn\n",
        "acc = sklearn.metrics.accuracy_score(test_labels, resultsRE1[0:80])\n",
        "acc"
      ],
      "id": "XhWZQOIp7gCj"
    },
    {
      "cell_type": "code",
      "execution_count": null,
      "metadata": {
        "colab": {
          "base_uri": "https://localhost:8080/"
        },
        "id": "I6jyr-Zk8s_0",
        "outputId": "c7cb8166-9341-47ad-d161-71c2478bd04a"
      },
      "outputs": [
        {
          "data": {
            "text/plain": [
              "array([[1],\n",
              "       [1],\n",
              "       [0],\n",
              "       ...,\n",
              "       [0],\n",
              "       [1],\n",
              "       [0]])"
            ]
          },
          "execution_count": 62,
          "metadata": {},
          "output_type": "execute_result"
        }
      ],
      "source": [
        "results"
      ],
      "id": "I6jyr-Zk8s_0"
    },
    {
      "cell_type": "markdown",
      "source": [
        "#RESNET aPPROCH 2"
      ],
      "metadata": {
        "id": "ZPIHG0N8luem"
      },
      "id": "ZPIHG0N8luem"
    },
    {
      "cell_type": "code",
      "execution_count": null,
      "metadata": {
        "id": "Dr0bfzx7-BnF"
      },
      "outputs": [],
      "source": [
        "from keras import models\n",
        "from keras import layers\n",
        "model2 = models.Sequential()\n",
        "model2.add(conv_base)\n",
        "model2.add(layers.Flatten())\n",
        "model2.add(layers.Dense(256, activation='relu'))\n",
        "model2.add(layers.Dense(1, activation='sigmoid'))"
      ],
      "id": "Dr0bfzx7-BnF"
    },
    {
      "cell_type": "code",
      "source": [
        "import numpy as np\n",
        "train_dir=\"/content/drive/MyDrive/lo/train\"\n",
        "validation_dir=\"/content/drive/MyDrive/lo/validation\"\n",
        "test_dir=\"/content/drive/MyDrive/lo/test\"\n",
        "\n",
        "\n",
        "from keras.preprocessing.image import ImageDataGenerator\n",
        "from keras import optimizers\n",
        "train_datagen = ImageDataGenerator(\n",
        "rescale=1./255,\n",
        "rotation_range=40,\n",
        "width_shift_range=0.2,\n",
        "height_shift_range=0.2,\n",
        "shear_range=0.2,\n",
        "zoom_range=0.2,\n",
        "horizontal_flip=True,\n",
        "fill_mode='nearest')\n",
        "test_datagen = ImageDataGenerator(rescale=1./255)\n",
        "\n",
        "\n",
        "\n",
        "\n",
        "\n",
        "\n",
        "train_generator = train_datagen.flow_from_directory(\n",
        "train_dir,\n",
        "target_size=(240, 240),\n",
        "batch_size=20,\n",
        "class_mode='binary')\n",
        "\n",
        "validation_generator = test_datagen.flow_from_directory(\n",
        "validation_dir,\n",
        "target_size=(240, 240),\n",
        "batch_size=20,\n",
        "class_mode='binary')"
      ],
      "metadata": {
        "colab": {
          "base_uri": "https://localhost:8080/"
        },
        "id": "xJJTZLVEmCKI",
        "outputId": "6277049f-ce9e-421b-e0a9-f96fd3d061ec"
      },
      "id": "xJJTZLVEmCKI",
      "execution_count": null,
      "outputs": [
        {
          "output_type": "stream",
          "name": "stdout",
          "text": [
            "Found 3000 images belonging to 2 classes.\n",
            "Found 200 images belonging to 2 classes.\n"
          ]
        }
      ]
    },
    {
      "cell_type": "code",
      "source": [
        "from tensorflow.keras import optimizers\n",
        "model2.compile(loss='binary_crossentropy',\n",
        "optimizer=optimizers.RMSprop(lr=2e-5),\n",
        "metrics=['acc'])\n",
        "\n",
        "history = model2.fit_generator(\n",
        "train_generator,\n",
        "steps_per_epoch=10,\n",
        "epochs=50,\n",
        "validation_data=validation_generator,\n",
        "validation_steps=5)"
      ],
      "metadata": {
        "colab": {
          "base_uri": "https://localhost:8080/"
        },
        "id": "jrUFcZ6jmE9q",
        "outputId": "7c2f5467-ba07-4388-dfd8-db0aa82e5b37"
      },
      "id": "jrUFcZ6jmE9q",
      "execution_count": null,
      "outputs": [
        {
          "output_type": "stream",
          "name": "stderr",
          "text": [
            "/usr/local/lib/python3.7/dist-packages/keras/optimizer_v2/rmsprop.py:130: UserWarning: The `lr` argument is deprecated, use `learning_rate` instead.\n",
            "  super(RMSprop, self).__init__(name, **kwargs)\n",
            "/usr/local/lib/python3.7/dist-packages/ipykernel_launcher.py:11: UserWarning: `Model.fit_generator` is deprecated and will be removed in a future version. Please use `Model.fit`, which supports generators.\n",
            "  # This is added back by InteractiveShellApp.init_path()\n"
          ]
        },
        {
          "output_type": "stream",
          "name": "stdout",
          "text": [
            "Epoch 1/50\n",
            "10/10 [==============================] - 35s 2s/step - loss: 0.9226 - acc: 0.6250 - val_loss: 0.7425 - val_acc: 0.5600\n",
            "Epoch 2/50\n",
            "10/10 [==============================] - 15s 2s/step - loss: 0.4938 - acc: 0.7800 - val_loss: 1.1463 - val_acc: 0.5200\n",
            "Epoch 3/50\n",
            "10/10 [==============================] - 16s 1s/step - loss: 0.4321 - acc: 0.8100 - val_loss: 0.5989 - val_acc: 0.7700\n",
            "Epoch 4/50\n",
            "10/10 [==============================] - 16s 2s/step - loss: 0.3972 - acc: 0.8000 - val_loss: 0.5409 - val_acc: 0.7300\n",
            "Epoch 5/50\n",
            "10/10 [==============================] - 12s 1s/step - loss: 0.3653 - acc: 0.8350 - val_loss: 0.3722 - val_acc: 0.8800\n",
            "Epoch 6/50\n",
            "10/10 [==============================] - 13s 1s/step - loss: 0.3964 - acc: 0.8400 - val_loss: 0.8868 - val_acc: 0.6800\n",
            "Epoch 7/50\n",
            "10/10 [==============================] - 12s 1s/step - loss: 0.3707 - acc: 0.8350 - val_loss: 0.3478 - val_acc: 0.8700\n",
            "Epoch 8/50\n",
            "10/10 [==============================] - 12s 1s/step - loss: 0.3092 - acc: 0.8800 - val_loss: 0.6006 - val_acc: 0.7900\n",
            "Epoch 9/50\n",
            "10/10 [==============================] - 12s 1s/step - loss: 0.2231 - acc: 0.9150 - val_loss: 0.3960 - val_acc: 0.8600\n",
            "Epoch 10/50\n",
            "10/10 [==============================] - 10s 1s/step - loss: 0.3872 - acc: 0.8100 - val_loss: 0.6333 - val_acc: 0.8100\n",
            "Epoch 11/50\n",
            "10/10 [==============================] - 9s 801ms/step - loss: 0.2802 - acc: 0.8850 - val_loss: 0.4543 - val_acc: 0.8400\n",
            "Epoch 12/50\n",
            "10/10 [==============================] - 11s 1s/step - loss: 0.2370 - acc: 0.9100 - val_loss: 0.4865 - val_acc: 0.8400\n",
            "Epoch 13/50\n",
            "10/10 [==============================] - 10s 929ms/step - loss: 0.1975 - acc: 0.8950 - val_loss: 0.6125 - val_acc: 0.8300\n",
            "Epoch 14/50\n",
            "10/10 [==============================] - 11s 1s/step - loss: 0.2010 - acc: 0.9150 - val_loss: 0.3985 - val_acc: 0.8600\n",
            "Epoch 15/50\n",
            "10/10 [==============================] - 10s 857ms/step - loss: 0.1323 - acc: 0.9450 - val_loss: 0.4521 - val_acc: 0.8500\n",
            "Epoch 16/50\n",
            "10/10 [==============================] - 9s 829ms/step - loss: 0.3155 - acc: 0.8900 - val_loss: 0.6269 - val_acc: 0.8300\n",
            "Epoch 17/50\n",
            "10/10 [==============================] - 8s 752ms/step - loss: 0.1915 - acc: 0.9200 - val_loss: 0.5474 - val_acc: 0.8100\n",
            "Epoch 18/50\n",
            "10/10 [==============================] - 9s 799ms/step - loss: 0.2259 - acc: 0.9300 - val_loss: 0.5229 - val_acc: 0.8200\n",
            "Epoch 19/50\n",
            "10/10 [==============================] - 8s 825ms/step - loss: 0.3018 - acc: 0.8950 - val_loss: 0.5945 - val_acc: 0.8300\n",
            "Epoch 20/50\n",
            "10/10 [==============================] - 7s 646ms/step - loss: 0.2184 - acc: 0.9000 - val_loss: 0.3582 - val_acc: 0.8900\n",
            "Epoch 21/50\n",
            "10/10 [==============================] - 7s 673ms/step - loss: 0.2649 - acc: 0.8950 - val_loss: 0.5813 - val_acc: 0.8400\n",
            "Epoch 22/50\n",
            "10/10 [==============================] - 7s 653ms/step - loss: 0.2829 - acc: 0.8800 - val_loss: 0.3551 - val_acc: 0.9000\n",
            "Epoch 23/50\n",
            "10/10 [==============================] - 7s 646ms/step - loss: 0.2165 - acc: 0.9150 - val_loss: 0.2952 - val_acc: 0.9300\n",
            "Epoch 24/50\n",
            "10/10 [==============================] - 7s 640ms/step - loss: 0.2071 - acc: 0.9350 - val_loss: 0.2823 - val_acc: 0.9300\n",
            "Epoch 25/50\n",
            "10/10 [==============================] - 6s 607ms/step - loss: 0.2827 - acc: 0.8800 - val_loss: 0.2124 - val_acc: 0.9000\n",
            "Epoch 26/50\n",
            "10/10 [==============================] - 7s 647ms/step - loss: 0.1321 - acc: 0.9550 - val_loss: 0.4932 - val_acc: 0.8200\n",
            "Epoch 27/50\n",
            "10/10 [==============================] - 6s 624ms/step - loss: 0.2283 - acc: 0.9000 - val_loss: 0.5890 - val_acc: 0.7700\n",
            "Epoch 28/50\n",
            "10/10 [==============================] - 7s 616ms/step - loss: 0.1761 - acc: 0.9300 - val_loss: 0.7298 - val_acc: 0.7700\n",
            "Epoch 29/50\n",
            "10/10 [==============================] - 7s 701ms/step - loss: 0.2041 - acc: 0.9200 - val_loss: 0.3273 - val_acc: 0.8700\n",
            "Epoch 30/50\n",
            "10/10 [==============================] - 6s 585ms/step - loss: 0.2273 - acc: 0.9200 - val_loss: 0.6059 - val_acc: 0.7800\n",
            "Epoch 31/50\n",
            "10/10 [==============================] - 6s 607ms/step - loss: 0.2429 - acc: 0.9000 - val_loss: 0.3687 - val_acc: 0.8700\n",
            "Epoch 32/50\n",
            "10/10 [==============================] - 7s 626ms/step - loss: 0.1686 - acc: 0.9500 - val_loss: 0.7921 - val_acc: 0.7400\n",
            "Epoch 33/50\n",
            "10/10 [==============================] - 6s 543ms/step - loss: 0.1461 - acc: 0.9500 - val_loss: 0.4581 - val_acc: 0.8600\n",
            "Epoch 34/50\n",
            "10/10 [==============================] - 6s 597ms/step - loss: 0.1898 - acc: 0.9500 - val_loss: 0.6155 - val_acc: 0.8300\n",
            "Epoch 35/50\n",
            "10/10 [==============================] - 6s 570ms/step - loss: 0.2257 - acc: 0.9400 - val_loss: 0.3493 - val_acc: 0.8700\n",
            "Epoch 36/50\n",
            "10/10 [==============================] - 7s 645ms/step - loss: 0.1367 - acc: 0.9500 - val_loss: 0.5045 - val_acc: 0.8300\n",
            "Epoch 37/50\n",
            "10/10 [==============================] - 6s 535ms/step - loss: 0.2335 - acc: 0.9150 - val_loss: 0.2654 - val_acc: 0.9000\n",
            "Epoch 38/50\n",
            "10/10 [==============================] - 6s 576ms/step - loss: 0.2019 - acc: 0.9100 - val_loss: 0.3208 - val_acc: 0.8800\n",
            "Epoch 39/50\n",
            "10/10 [==============================] - 6s 597ms/step - loss: 0.2486 - acc: 0.9150 - val_loss: 0.2298 - val_acc: 0.9100\n",
            "Epoch 40/50\n",
            "10/10 [==============================] - 6s 550ms/step - loss: 0.1703 - acc: 0.9300 - val_loss: 0.2896 - val_acc: 0.8800\n",
            "Epoch 41/50\n",
            "10/10 [==============================] - 6s 537ms/step - loss: 0.1237 - acc: 0.9550 - val_loss: 0.3972 - val_acc: 0.8900\n",
            "Epoch 42/50\n",
            "10/10 [==============================] - 6s 533ms/step - loss: 0.1842 - acc: 0.9300 - val_loss: 0.3481 - val_acc: 0.8800\n",
            "Epoch 43/50\n",
            "10/10 [==============================] - 6s 537ms/step - loss: 0.2341 - acc: 0.9000 - val_loss: 0.3139 - val_acc: 0.8900\n",
            "Epoch 44/50\n",
            "10/10 [==============================] - 6s 557ms/step - loss: 0.1406 - acc: 0.9400 - val_loss: 0.2895 - val_acc: 0.9000\n",
            "Epoch 45/50\n",
            "10/10 [==============================] - 6s 531ms/step - loss: 0.1534 - acc: 0.9450 - val_loss: 0.2458 - val_acc: 0.9100\n",
            "Epoch 46/50\n",
            "10/10 [==============================] - 6s 553ms/step - loss: 0.1723 - acc: 0.9500 - val_loss: 0.1633 - val_acc: 0.9300\n",
            "Epoch 47/50\n",
            "10/10 [==============================] - 6s 522ms/step - loss: 0.2622 - acc: 0.9050 - val_loss: 0.2287 - val_acc: 0.9200\n",
            "Epoch 48/50\n",
            "10/10 [==============================] - 6s 537ms/step - loss: 0.1429 - acc: 0.9550 - val_loss: 0.3581 - val_acc: 0.8900\n",
            "Epoch 49/50\n",
            "10/10 [==============================] - 6s 524ms/step - loss: 0.2386 - acc: 0.9200 - val_loss: 0.2906 - val_acc: 0.9200\n",
            "Epoch 50/50\n",
            "10/10 [==============================] - 6s 540ms/step - loss: 0.1568 - acc: 0.9550 - val_loss: 0.4415 - val_acc: 0.8900\n"
          ]
        }
      ]
    },
    {
      "cell_type": "code",
      "source": [
        "import matplotlib.pyplot as plt\n",
        "acc = history.history['acc']\n",
        "val_acc = history.history['val_acc']\n",
        "loss = history.history['loss']\n",
        "val_loss = history.history['val_loss']\n",
        "epochs = range(1, len(acc) + 1)\n",
        "plt.plot(epochs, acc, 'bo', label='Training acc')\n",
        "plt.plot(epochs, val_acc, 'b', label='Validation acc')\n",
        "plt.title('Training and validation accuracy')\n",
        "plt.legend()\n",
        "plt.figure()\n",
        "plt.plot(epochs, loss, 'bo', label='Training loss')\n",
        "plt.plot(epochs, val_loss, 'b', label='Validation loss')\n",
        "plt.title('Training and validation loss')\n",
        "plt.legend()\n",
        "plt.show()"
      ],
      "metadata": {
        "colab": {
          "base_uri": "https://localhost:8080/",
          "height": 545
        },
        "id": "4zPvFfC-mKlo",
        "outputId": "fbb2a3d8-138f-46e2-8b4d-0d9f36a0489c"
      },
      "id": "4zPvFfC-mKlo",
      "execution_count": null,
      "outputs": [
        {
          "output_type": "display_data",
          "data": {
            "text/plain": [
              "<Figure size 432x288 with 1 Axes>"
            ],
            "image/png": "[encoded data removed]"
          },
          "metadata": {
            "needs_background": "light"
          }
        },
        {
          "output_type": "display_data",
          "data": {
            "text/plain": [
              "<Figure size 432x288 with 1 Axes>"
            ],
            "image/png": "[encoded data removed]"
          },
          "metadata": {
            "needs_background": "light"
          }
        }
      ]
    },
    {
      "cell_type": "code",
      "source": [
        "test_generator = test_datagen.flow_from_directory(\n",
        "test_dir,\n",
        "target_size=(240, 240),\n",
        "batch_size=batch_size)\n",
        "a=model2.predict_generator(test_generator)\n",
        "\n",
        "\n",
        "threshold = 0.5\n",
        "\n",
        "resultsRES2 = (a>threshold)*1\n",
        "import sklearn\n",
        "acc = sklearn.metrics.accuracy_score(test_labels, resultsRES2[0:80])\n",
        "acc"
      ],
      "metadata": {
        "colab": {
          "base_uri": "https://localhost:8080/"
        },
        "id": "bXKL60AbneCQ",
        "outputId": "598e22a6-094f-4ba6-9399-82bc48b8a341"
      },
      "id": "bXKL60AbneCQ",
      "execution_count": null,
      "outputs": [
        {
          "output_type": "stream",
          "name": "stdout",
          "text": [
            "Found 480 images belonging to 2 classes.\n"
          ]
        },
        {
          "output_type": "stream",
          "name": "stderr",
          "text": [
            "/usr/local/lib/python3.7/dist-packages/ipykernel_launcher.py:5: UserWarning: `Model.predict_generator` is deprecated and will be removed in a future version. Please use `Model.predict`, which supports generators.\n",
            "  \"\"\"\n"
          ]
        },
        {
          "output_type": "execute_result",
          "data": {
            "text/plain": [
              "0.775"
            ]
          },
          "metadata": {},
          "execution_count": 30
        }
      ]
    },
    {
      "cell_type": "code",
      "source": [
        "import sklearn\n",
        "acc = sklearn.metrics.accuracy_score(test_labels, resultsRES2[0:80])\n",
        "acc"
      ],
      "metadata": {
        "colab": {
          "base_uri": "https://localhost:8080/"
        },
        "id": "kj5KHlA4oG1b",
        "outputId": "38033c30-9c9c-409b-d45e-59a5054956f7"
      },
      "id": "kj5KHlA4oG1b",
      "execution_count": null,
      "outputs": [
        {
          "output_type": "execute_result",
          "data": {
            "text/plain": [
              "0.775"
            ]
          },
          "metadata": {},
          "execution_count": 31
        }
      ]
    },
    {
      "cell_type": "code",
      "source": [
        "from sklearn.metrics import confusion_matrix\n",
        "import seaborn as sns\n",
        "matrix_confusion = confusion_matrix(test_labels, resultsRES2[0:80])\n",
        "sns.heatmap(matrix_confusion, square=True, annot=True, cmap='Blues', fmt='d', cbar=False)"
      ],
      "metadata": {
        "colab": {
          "base_uri": "https://localhost:8080/",
          "height": 282
        },
        "id": "nkHH4zIeoi26",
        "outputId": "48eca8d1-c086-4627-8a70-9840a50a35e3"
      },
      "id": "nkHH4zIeoi26",
      "execution_count": null,
      "outputs": [
        {
          "output_type": "execute_result",
          "data": {
            "text/plain": [
              "<matplotlib.axes._subplots.AxesSubplot at 0x7fa3425ff5d0>"
            ]
          },
          "metadata": {},
          "execution_count": 33
        },
        {
          "output_type": "display_data",
          "data": {
            "text/plain": [
              "<Figure size 432x288 with 1 Axes>"
            ],
            "image/png": "[encoded data removed]"
          },
          "metadata": {
            "needs_background": "light"
          }
        }
      ]
    },
    {
      "cell_type": "code",
      "source": [],
      "metadata": {
        "id": "-sa4SsS3osLf"
      },
      "id": "-sa4SsS3osLf",
      "execution_count": null,
      "outputs": []
    }
  ],
  "metadata": {
    "accelerator": "GPU",
    "colab": {
      "collapsed_sections": [],
      "provenance": []
    },
    "kernelspec": {
      "display_name": "Python 3 (ipykernel)",
      "language": "python",
      "name": "python3"
    },
    "language_info": {
      "codemirror_mode": {
        "name": "ipython",
        "version": 3
      },
      "file_extension": ".py",
      "mimetype": "text/x-python",
      "name": "python",
      "nbconvert_exporter": "python",
      "pygments_lexer": "ipython3",
      "version": "3.9.12"
    }
  },
  "nbformat": 4,
  "nbformat_minor": 5
}